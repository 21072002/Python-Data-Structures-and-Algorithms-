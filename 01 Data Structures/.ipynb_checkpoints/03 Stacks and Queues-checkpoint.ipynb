{
 "cells": [
  {
   "cell_type": "markdown",
   "id": "ca9589ea",
   "metadata": {},
   "source": [
    "#    Stacks and Queues"
   ]
  },
  {
   "cell_type": "markdown",
   "id": "0b00d775",
   "metadata": {},
   "source": [
    "\n",
    "### Stacks\n",
    "\n",
    "#### Definition\n",
    "\n",
    "A stack is a linear data structure that follows the Last-In-First-Out (LIFO) principle, where the last element added is the first one to be removed.\n",
    "\n",
    "#### Key Points\n",
    "\n",
    "- Elements can be pushed (added) onto the stack and popped (removed) from the stack.\n",
    "- Stack operations: **push** (adds an element to the top) and **pop** (removes and returns the top element).\n",
    "- Commonly used for function call management, expression evaluation, and backtracking.\n",
    "\n",
    "#### Operations\n",
    "\n",
    "1. **Push:**\n",
    "   - Add an element to the top of the stack.\n",
    "\n",
    "2. **Pop:**\n",
    "   - Remove and return the top element from the stack.\n",
    "\n"
   ]
  },
  {
   "cell_type": "code",
   "execution_count": 3,
   "id": "d43ce32d",
   "metadata": {},
   "outputs": [
    {
     "name": "stdout",
     "output_type": "stream",
     "text": [
      "30\n",
      "20\n"
     ]
    }
   ],
   "source": [
    "class Stack:\n",
    "    def __init__(self):\n",
    "        self.stack = []\n",
    "\n",
    "    def push(self, item):\n",
    "        self.stack.append(item)\n",
    "\n",
    "    def pop(self):\n",
    "        if not self.is_empty():\n",
    "            return self.stack.pop()\n",
    "        else:\n",
    "            return None\n",
    "\n",
    "    def is_empty(self):\n",
    "        return len(self.stack) == 0\n",
    "\n",
    "# Usage\n",
    "stack = Stack()\n",
    "stack.push(10)\n",
    "stack.push(20)\n",
    "stack.push(30)\n",
    "\n",
    "print(stack.pop())  # Output: 30\n",
    "print(stack.pop())  # Output: 20\n"
   ]
  },
  {
   "cell_type": "markdown",
   "id": "19ec2892",
   "metadata": {},
   "source": [
    "\n",
    "\n",
    "### Queues\n",
    "\n",
    "#### Definition\n",
    "\n",
    "A queue is a linear data structure that follows the First-In-First-Out (FIFO) principle, where the first element added is the first one to be removed.\n",
    "\n",
    "#### Key Points\n",
    "\n",
    "- Elements can be enqueued (added) at the back and dequeued (removed) from the front.\n",
    "- Queue operations: **enqueue** (adds an element to the back) and **dequeue** (removes and returns the front element).\n",
    "- Commonly used in scenarios involving scheduling, breadth-first search, and simulations.\n",
    "\n",
    "#### Operations\n",
    "\n",
    "1. **Enqueue:**\n",
    "   - Add an element to the back of the queue.\n",
    "\n",
    "2. **Dequeue:**\n",
    "   - Remove and return the front element from the queue.\n",
    "\n"
   ]
  },
  {
   "cell_type": "code",
   "execution_count": 4,
   "id": "89c0ad18",
   "metadata": {},
   "outputs": [
    {
     "name": "stdout",
     "output_type": "stream",
     "text": [
      "10\n",
      "20\n"
     ]
    }
   ],
   "source": [
    "from collections import deque\n",
    "\n",
    "class Queue:\n",
    "    def __init__(self):\n",
    "        self.queue = deque()\n",
    "\n",
    "    def enqueue(self, item):\n",
    "        self.queue.append(item)\n",
    "\n",
    "    def dequeue(self):\n",
    "        if not self.is_empty():\n",
    "            return self.queue.popleft()\n",
    "        else:\n",
    "            return None\n",
    "\n",
    "    def is_empty(self):\n",
    "        return len(self.queue) == 0\n",
    "\n",
    "# Usage\n",
    "queue = Queue()\n",
    "queue.enqueue(10)\n",
    "queue.enqueue(20)\n",
    "queue.enqueue(30)\n",
    "\n",
    "print(queue.dequeue())  # Output: 10\n",
    "print(queue.dequeue())  # Output: 20\n"
   ]
  },
  {
   "cell_type": "code",
   "execution_count": null,
   "id": "f0fc155f",
   "metadata": {},
   "outputs": [],
   "source": []
  },
  {
   "cell_type": "code",
   "execution_count": null,
   "id": "780010d4",
   "metadata": {},
   "outputs": [],
   "source": []
  }
 ],
 "metadata": {
  "kernelspec": {
   "display_name": "Python 3 (ipykernel)",
   "language": "python",
   "name": "python3"
  },
  "language_info": {
   "codemirror_mode": {
    "name": "ipython",
    "version": 3
   },
   "file_extension": ".py",
   "mimetype": "text/x-python",
   "name": "python",
   "nbconvert_exporter": "python",
   "pygments_lexer": "ipython3",
   "version": "3.9.18"
  },
  "varInspector": {
   "cols": {
    "lenName": 16,
    "lenType": 16,
    "lenVar": 40
   },
   "kernels_config": {
    "python": {
     "delete_cmd_postfix": "",
     "delete_cmd_prefix": "del ",
     "library": "var_list.py",
     "varRefreshCmd": "print(var_dic_list())"
    },
    "r": {
     "delete_cmd_postfix": ") ",
     "delete_cmd_prefix": "rm(",
     "library": "var_list.r",
     "varRefreshCmd": "cat(var_dic_list()) "
    }
   },
   "types_to_exclude": [
    "module",
    "function",
    "builtin_function_or_method",
    "instance",
    "_Feature"
   ],
   "window_display": false
  }
 },
 "nbformat": 4,
 "nbformat_minor": 5
}
