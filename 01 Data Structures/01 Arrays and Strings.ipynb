{
 "cells": [
  {
   "cell_type": "markdown",
   "id": "2d6bdf18",
   "metadata": {},
   "source": [
    "# Arrays and Strings"
   ]
  },
  {
   "cell_type": "markdown",
   "id": "39473369",
   "metadata": {},
   "source": [
    "Absolutely, let's delve into **Arrays and Strings**.\n",
    "\n",
    "### Arrays and Strings\n",
    "\n",
    "#### Arrays\n",
    "\n",
    "- **Definition:**\n",
    "  - An array is a collection of elements, each identified by an index or a key.\n",
    "  - The elements are stored in contiguous memory locations.\n",
    "  - Arrays have a fixed size in most programming languages.\n",
    "\n",
    "- **Key Points:**\n",
    "  - Elements can be of the same or different data types (e.g., integers, strings, etc.).\n",
    "  - Elements are accessed using their index, starting from 0 in most programming languages.\n",
    "  - Random access to elements is possible in O(1) time.\n",
    "\n",
    "- **Operations:**\n",
    "  - **Accessing Elements:** Access an element by its index.\n",
    "  - **Insertion:** Insert an element at a specific index, shifting others if necessary.\n",
    "  - **Deletion:** Remove an element from a specific index, shifting others if necessary.\n",
    "  - **Search:** Find an element in the array.\n",
    "\n"
   ]
  },
  {
   "cell_type": "code",
   "execution_count": 2,
   "id": "84e7c97e",
   "metadata": {},
   "outputs": [
    {
     "name": "stdout",
     "output_type": "stream",
     "text": [
      "1\n",
      "Element 4 found in the array.\n"
     ]
    }
   ],
   "source": [
    "# Creating an array\n",
    "arr = [1, 2, 3, 4, 5]\n",
    "\n",
    "# Accessing elements\n",
    "print(arr[0])  # Output: 1\n",
    "\n",
    "# Modifying an element\n",
    "arr[1] = 10\n",
    "\n",
    "# Insertion\n",
    "arr.insert(2, 6)  # Inserts 6 at index 2\n",
    "\n",
    "# Deletion\n",
    "arr.pop(3)  # Removes element at index 3\n",
    "\n",
    "# Search\n",
    "if 4 in arr:\n",
    "    print(\"Element 4 found in the array.\")\n"
   ]
  },
  {
   "cell_type": "markdown",
   "id": "e7751093",
   "metadata": {},
   "source": [
    "\n",
    "\n",
    "#### Strings\n",
    "\n",
    "- **Definition:**\n",
    "  - A string is a sequence of characters.\n",
    "  - In many programming languages, strings are represented as an array of characters.\n",
    "\n",
    "- **Key Points:**\n",
    "  - Strings are immutable in some programming languages (e.g., Python), meaning their content cannot be changed after creation.\n",
    "  - Operations like concatenation, substring, length, and comparison are common with strings.\n",
    "\n",
    "- **Operations:**\n",
    "  - **Concatenation:** Joining two strings to create a new string.\n",
    "  - **Substring:** Extracting a portion of a string.\n",
    "  - **Length:** Finding the length of a string.\n",
    "  - **Comparison:** Comparing two strings.\n"
   ]
  },
  {
   "cell_type": "code",
   "execution_count": 3,
   "id": "a5ad6a78",
   "metadata": {},
   "outputs": [
    {
     "name": "stdout",
     "output_type": "stream",
     "text": [
      "Strings are not equal\n"
     ]
    }
   ],
   "source": [
    "# Creating strings\n",
    "str1 = \"Hello, \"\n",
    "str2 = \"World!\"\n",
    "\n",
    "# Concatenation\n",
    "concatenated_str = str1 + str2  # Output: \"Hello, World!\"\n",
    "\n",
    "# Substring\n",
    "substring = str1[0:5]  # Extracts characters from index 0 to 4\n",
    "\n",
    "# Length of a string\n",
    "length = len(str1)  # Output: 7\n",
    "\n",
    "# String comparison\n",
    "if str1 == str2:\n",
    "    print(\"Strings are equal\")\n",
    "else:\n",
    "    print(\"Strings are not equal\")\n"
   ]
  },
  {
   "cell_type": "code",
   "execution_count": null,
   "id": "f53d34a1",
   "metadata": {},
   "outputs": [],
   "source": []
  }
 ],
 "metadata": {
  "kernelspec": {
   "display_name": "Python 3 (ipykernel)",
   "language": "python",
   "name": "python3"
  },
  "language_info": {
   "codemirror_mode": {
    "name": "ipython",
    "version": 3
   },
   "file_extension": ".py",
   "mimetype": "text/x-python",
   "name": "python",
   "nbconvert_exporter": "python",
   "pygments_lexer": "ipython3",
   "version": "3.9.18"
  },
  "varInspector": {
   "cols": {
    "lenName": 16,
    "lenType": 16,
    "lenVar": 40
   },
   "kernels_config": {
    "python": {
     "delete_cmd_postfix": "",
     "delete_cmd_prefix": "del ",
     "library": "var_list.py",
     "varRefreshCmd": "print(var_dic_list())"
    },
    "r": {
     "delete_cmd_postfix": ") ",
     "delete_cmd_prefix": "rm(",
     "library": "var_list.r",
     "varRefreshCmd": "cat(var_dic_list()) "
    }
   },
   "types_to_exclude": [
    "module",
    "function",
    "builtin_function_or_method",
    "instance",
    "_Feature"
   ],
   "window_display": false
  }
 },
 "nbformat": 4,
 "nbformat_minor": 5
}
