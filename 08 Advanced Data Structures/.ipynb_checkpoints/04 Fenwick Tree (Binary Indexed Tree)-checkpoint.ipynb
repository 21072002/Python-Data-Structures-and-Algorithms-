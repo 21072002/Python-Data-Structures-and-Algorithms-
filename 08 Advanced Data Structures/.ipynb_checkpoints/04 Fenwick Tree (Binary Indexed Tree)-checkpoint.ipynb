{
 "cells": [
  {
   "cell_type": "markdown",
   "id": "fc682131",
   "metadata": {},
   "source": [
    "A Fenwick Tree, also known as a Binary Indexed Tree (BIT), is a data structure that efficiently supports prefix sum (cumulative sum) operations on an array. It allows for efficient updates of individual elements and retrieval of prefix sums of elements up to a given index.\n",
    "\n",
    "### Fenwick Tree Structure\n",
    "\n",
    "- A Fenwick Tree is represented as an array `BIT` of the same length as the original array.\n",
    "- Each element in the `BIT` array represents the cumulative sum of a specific range of elements in the original array.\n",
    "- The position of the least significant bit (LSB) in the index of an element determines the range of elements it represents.\n",
    "\n",
    "### Fenwick Tree Operations\n",
    "\n",
    "#### 1. **Construction**\n",
    "\n",
    "- Build the Fenwick Tree based on the input array.\n",
    "\n",
    "#### 2. **Prefix Sum (Query)**\n",
    "\n",
    "- Retrieve the prefix sum (cumulative sum) up to a given index in the original array.\n",
    "\n",
    "#### 3. **Update**\n",
    "\n",
    "- Modify an element in the original array and update the Fenwick Tree accordingly.\n",
    "\n"
   ]
  },
  {
   "cell_type": "code",
   "execution_count": 2,
   "id": "b237e467",
   "metadata": {},
   "outputs": [
    {
     "name": "stdout",
     "output_type": "stream",
     "text": [
      "6\n",
      "11\n"
     ]
    }
   ],
   "source": [
    "class FenwickTree:\n",
    "    def __init__(self, n):\n",
    "        self.size = n\n",
    "        self.bit = [0] * (n + 1)\n",
    "\n",
    "    def update(self, index, value):\n",
    "        while index <= self.size:\n",
    "            self.bit[index] += value\n",
    "            index += index & -index\n",
    "\n",
    "    def query(self, index):\n",
    "        result = 0\n",
    "        while index > 0:\n",
    "            result += self.bit[index]\n",
    "            index -= index & -index\n",
    "        return result\n",
    "\n",
    "# Usage\n",
    "nums = [1, 2, 3, 4, 5, 6, 7]\n",
    "fenwick_tree = FenwickTree(len(nums))\n",
    "\n",
    "# Build the Fenwick Tree\n",
    "for i in range(len(nums)):\n",
    "    fenwick_tree.update(i + 1, nums[i])\n",
    "\n",
    "# Prefix sum of elements up to index 3\n",
    "print(fenwick_tree.query(3))  # Output: 6 (1 + 2 + 3)\n",
    "\n",
    "# Update element at index 2\n",
    "fenwick_tree.update(2, 5)\n",
    "print(fenwick_tree.query(3))  # Output: 11 (1 + 5 + 3)\n"
   ]
  },
  {
   "cell_type": "code",
   "execution_count": null,
   "id": "c05f7002",
   "metadata": {},
   "outputs": [],
   "source": []
  }
 ],
 "metadata": {
  "kernelspec": {
   "display_name": "Python 3 (ipykernel)",
   "language": "python",
   "name": "python3"
  },
  "language_info": {
   "codemirror_mode": {
    "name": "ipython",
    "version": 3
   },
   "file_extension": ".py",
   "mimetype": "text/x-python",
   "name": "python",
   "nbconvert_exporter": "python",
   "pygments_lexer": "ipython3",
   "version": "3.9.18"
  },
  "varInspector": {
   "cols": {
    "lenName": 16,
    "lenType": 16,
    "lenVar": 40
   },
   "kernels_config": {
    "python": {
     "delete_cmd_postfix": "",
     "delete_cmd_prefix": "del ",
     "library": "var_list.py",
     "varRefreshCmd": "print(var_dic_list())"
    },
    "r": {
     "delete_cmd_postfix": ") ",
     "delete_cmd_prefix": "rm(",
     "library": "var_list.r",
     "varRefreshCmd": "cat(var_dic_list()) "
    }
   },
   "types_to_exclude": [
    "module",
    "function",
    "builtin_function_or_method",
    "instance",
    "_Feature"
   ],
   "window_display": false
  }
 },
 "nbformat": 4,
 "nbformat_minor": 5
}
