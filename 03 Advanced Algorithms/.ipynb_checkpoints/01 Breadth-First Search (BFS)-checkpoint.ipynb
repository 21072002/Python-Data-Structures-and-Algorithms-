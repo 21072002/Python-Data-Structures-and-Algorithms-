{
 "cells": [
  {
   "cell_type": "markdown",
   "id": "145feef9",
   "metadata": {},
   "source": [
    "### Breadth-First Search (BFS)\n",
    "\n",
    "#### Definition\n",
    "\n",
    "- Breadth-First Search (BFS) is an algorithm used to traverse or search a graph or tree in a breadthward motion.\n",
    "- It starts at the tree root (or an arbitrary node of a graph) and explores the neighbor nodes at the present depth before moving on to nodes at the next depth level.\n",
    "\n",
    "#### Key Points\n",
    "\n",
    "- BFS explores the graph in layers, visiting all neighbors at the current depth before moving to the nodes at the next depth level.\n",
    "- It can be used to find the shortest path in an unweighted graph.\n",
    "\n",
    "#### Algorithm Steps\n",
    "\n",
    "1. Start from a given node (e.g., the root node for a tree or any arbitrary node for a graph).\n",
    "2. Enqueue the starting node.\n",
    "3. Mark the starting node as visited.\n",
    "4. While the queue is not empty:\n",
    "   - Dequeue a node from the queue.\n",
    "   - Visit the dequeued node.\n",
    "   - Enqueue all adjacent nodes of the dequeued node.\n",
    "   - Mark the adjacent nodes as visited.\n",
    "\n"
   ]
  },
  {
   "cell_type": "code",
   "execution_count": 1,
   "id": "0d6b1bd3",
   "metadata": {},
   "outputs": [
    {
     "name": "stdout",
     "output_type": "stream",
     "text": [
      "BFS Traversal:\n",
      "2 0 1 3 "
     ]
    }
   ],
   "source": [
    "from collections import defaultdict, deque\n",
    "\n",
    "class Graph:\n",
    "    def __init__(self):\n",
    "        self.graph = defaultdict(list)\n",
    "\n",
    "    def add_edge(self, u, v):\n",
    "        self.graph[u].append(v)\n",
    "        self.graph[v].append(u)\n",
    "\n",
    "    def bfs(self, start_node):\n",
    "        visited = set()\n",
    "        queue = deque()\n",
    "\n",
    "        queue.append(start_node)\n",
    "        visited.add(start_node)\n",
    "\n",
    "        while queue:\n",
    "            current_node = queue.popleft()\n",
    "            print(current_node, end=\" \")\n",
    "\n",
    "            for neighbor in self.graph[current_node]:\n",
    "                if neighbor not in visited:\n",
    "                    queue.append(neighbor)\n",
    "                    visited.add(neighbor)\n",
    "\n",
    "# Usage\n",
    "graph = Graph()\n",
    "graph.add_edge(0, 1)\n",
    "graph.add_edge(0, 2)\n",
    "graph.add_edge(1, 2)\n",
    "graph.add_edge(2, 3)\n",
    "graph.add_edge(3, 3)\n",
    "\n",
    "print(\"BFS Traversal:\")\n",
    "graph.bfs(2)  # Starting from node 2\n"
   ]
  },
  {
   "cell_type": "markdown",
   "id": "336c8df9",
   "metadata": {},
   "source": [
    "In this example, we define a `Graph` class to represent the graph using an adjacency list. We then implement the BFS traversal using a queue."
   ]
  },
  {
   "cell_type": "code",
   "execution_count": null,
   "id": "c6570a2e",
   "metadata": {},
   "outputs": [],
   "source": []
  }
 ],
 "metadata": {
  "kernelspec": {
   "display_name": "Python 3 (ipykernel)",
   "language": "python",
   "name": "python3"
  },
  "language_info": {
   "codemirror_mode": {
    "name": "ipython",
    "version": 3
   },
   "file_extension": ".py",
   "mimetype": "text/x-python",
   "name": "python",
   "nbconvert_exporter": "python",
   "pygments_lexer": "ipython3",
   "version": "3.9.18"
  },
  "varInspector": {
   "cols": {
    "lenName": 16,
    "lenType": 16,
    "lenVar": 40
   },
   "kernels_config": {
    "python": {
     "delete_cmd_postfix": "",
     "delete_cmd_prefix": "del ",
     "library": "var_list.py",
     "varRefreshCmd": "print(var_dic_list())"
    },
    "r": {
     "delete_cmd_postfix": ") ",
     "delete_cmd_prefix": "rm(",
     "library": "var_list.r",
     "varRefreshCmd": "cat(var_dic_list()) "
    }
   },
   "types_to_exclude": [
    "module",
    "function",
    "builtin_function_or_method",
    "instance",
    "_Feature"
   ],
   "window_display": false
  }
 },
 "nbformat": 4,
 "nbformat_minor": 5
}
