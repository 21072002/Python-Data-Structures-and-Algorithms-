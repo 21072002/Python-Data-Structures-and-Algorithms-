{
 "cells": [
  {
   "cell_type": "markdown",
   "id": "20749974",
   "metadata": {},
   "source": [
    "### Hash Tables (Hash Maps)\n",
    "\n",
    "#### Definition\n",
    "\n",
    "- A hash table, or hash map, is a data structure that stores key-value pairs.\n",
    "- It uses a hash function to compute an index into an array of buckets or slots from which the desired value can be found.\n",
    "\n",
    "#### Key Points\n",
    "\n",
    "- Hash functions map keys to indices in the hash table.\n",
    "- Collisions occur when two different keys hash to the same index.\n",
    "- Techniques to handle collisions include chaining (using a linked list at each slot) and open addressing (finding an empty slot by probing).\n",
    "\n"
   ]
  },
  {
   "cell_type": "code",
   "execution_count": 1,
   "id": "26bf3753",
   "metadata": {},
   "outputs": [
    {
     "name": "stdout",
     "output_type": "stream",
     "text": [
      "Hash Map Contents:\n",
      "Bucket 0: [(10, 'Alice'), (20, 'Bob')]\n",
      "Bucket 1: [(11, 'Charlie'), (21, 'David')]\n",
      "Bucket 2: []\n",
      "Bucket 3: []\n",
      "Bucket 4: []\n",
      "Bucket 5: []\n",
      "Bucket 6: []\n",
      "Bucket 7: []\n",
      "Bucket 8: []\n",
      "Bucket 9: []\n",
      "Value for key 10: Alice\n",
      "Value for key 11: Charlie\n"
     ]
    }
   ],
   "source": [
    "class HashMap:\n",
    "    def __init__(self, size=10):\n",
    "        self.size = size\n",
    "        self.hash_table = [[] for _ in range(self.size)]\n",
    "\n",
    "    def hash_function(self, key):\n",
    "        return key % self.size\n",
    "\n",
    "    def insert(self, key, value):\n",
    "        hash_key = self.hash_function(key)\n",
    "        for i, pair in enumerate(self.hash_table[hash_key]):\n",
    "            if pair[0] == key:\n",
    "                self.hash_table[hash_key][i] = (key, value)  # Update value if key exists\n",
    "                return\n",
    "        self.hash_table[hash_key].append((key, value))\n",
    "\n",
    "    def get(self, key):\n",
    "        hash_key = self.hash_function(key)\n",
    "        for pair in self.hash_table[hash_key]:\n",
    "            if pair[0] == key:\n",
    "                return pair[1]  # Return value associated with the key\n",
    "        return None  # Key not found\n",
    "\n",
    "    def display(self):\n",
    "        for i in range(self.size):\n",
    "            print(f\"Bucket {i}: {self.hash_table[i]}\")\n",
    "\n",
    "# Usage\n",
    "hash_map = HashMap()\n",
    "hash_map.insert(10, 'Alice')\n",
    "hash_map.insert(20, 'Bob')\n",
    "hash_map.insert(11, 'Charlie')\n",
    "hash_map.insert(21, 'David')\n",
    "\n",
    "print(\"Hash Map Contents:\")\n",
    "hash_map.display()\n",
    "\n",
    "print(\"Value for key 10:\", hash_map.get(10))  # Output: Value for key 10: Alice\n",
    "print(\"Value for key 11:\", hash_map.get(11))  # Output: Value for key 11: Charlie\n"
   ]
  },
  {
   "cell_type": "code",
   "execution_count": null,
   "id": "25a367d0",
   "metadata": {},
   "outputs": [],
   "source": []
  }
 ],
 "metadata": {
  "kernelspec": {
   "display_name": "Python 3 (ipykernel)",
   "language": "python",
   "name": "python3"
  },
  "language_info": {
   "codemirror_mode": {
    "name": "ipython",
    "version": 3
   },
   "file_extension": ".py",
   "mimetype": "text/x-python",
   "name": "python",
   "nbconvert_exporter": "python",
   "pygments_lexer": "ipython3",
   "version": "3.9.18"
  },
  "varInspector": {
   "cols": {
    "lenName": 16,
    "lenType": 16,
    "lenVar": 40
   },
   "kernels_config": {
    "python": {
     "delete_cmd_postfix": "",
     "delete_cmd_prefix": "del ",
     "library": "var_list.py",
     "varRefreshCmd": "print(var_dic_list())"
    },
    "r": {
     "delete_cmd_postfix": ") ",
     "delete_cmd_prefix": "rm(",
     "library": "var_list.r",
     "varRefreshCmd": "cat(var_dic_list()) "
    }
   },
   "types_to_exclude": [
    "module",
    "function",
    "builtin_function_or_method",
    "instance",
    "_Feature"
   ],
   "window_display": false
  }
 },
 "nbformat": 4,
 "nbformat_minor": 5
}
