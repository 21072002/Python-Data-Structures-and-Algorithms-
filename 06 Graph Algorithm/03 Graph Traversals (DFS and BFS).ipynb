{
 "cells": [
  {
   "cell_type": "markdown",
   "id": "a9fea1b6",
   "metadata": {},
   "source": [
    "### Depth-First Search (DFS)\n",
    "\n",
    "#### Key Points\n",
    "\n",
    "- DFS explores a graph by going as deep as possible along each branch before backtracking.\n",
    "- It uses a stack or recursion to keep track of vertices to visit.\n",
    "\n",
    "#### Algorithm Steps\n",
    "\n",
    "1. **Choose a Starting Vertex**: Start from a chosen vertex.\n",
    "2. **Visit and Mark the Vertex**: Visit the vertex and mark it as visited.\n",
    "3. **Explore Unvisited Neighbors**: Visit an unvisited neighbor of the current vertex and repeat step 2.\n",
    "4. **Backtrack**: If all neighbors are visited, backtrack to the previous vertex and explore its unvisited neighbors.\n",
    "\n"
   ]
  },
  {
   "cell_type": "code",
   "execution_count": 1,
   "id": "3ed4a777",
   "metadata": {},
   "outputs": [
    {
     "name": "stdout",
     "output_type": "stream",
     "text": [
      "DFS traversal starting from vertex 0:\n",
      "0 1 2 3 "
     ]
    }
   ],
   "source": [
    "from collections import defaultdict\n",
    "\n",
    "class Graph:\n",
    "    def __init__(self):\n",
    "        self.graph = defaultdict(list)\n",
    "\n",
    "    def add_edge(self, u, v):\n",
    "        self.graph[u].append(v)\n",
    "        self.graph[v].append(u)\n",
    "\n",
    "    def dfs(self, start_vertex):\n",
    "        visited = set()\n",
    "\n",
    "        def dfs_util(vertex):\n",
    "            visited.add(vertex)\n",
    "            print(vertex, end=' ')\n",
    "\n",
    "            for neighbor in self.graph[vertex]:\n",
    "                if neighbor not in visited:\n",
    "                    dfs_util(neighbor)\n",
    "\n",
    "        dfs_util(start_vertex)\n",
    "\n",
    "# Usage\n",
    "graph = Graph()\n",
    "graph.add_edge(0, 1)\n",
    "graph.add_edge(0, 2)\n",
    "graph.add_edge(1, 2)\n",
    "graph.add_edge(2, 3)\n",
    "graph.add_edge(1, 3)\n",
    "\n",
    "print(\"DFS traversal starting from vertex 0:\")\n",
    "graph.dfs(0)  # Output: 0 1 2 3\n"
   ]
  },
  {
   "cell_type": "markdown",
   "id": "d3dedbc4",
   "metadata": {},
   "source": [
    "### Breadth-First Search (BFS)\n",
    "\n",
    "#### Key Points\n",
    "\n",
    "- BFS explores a graph by visiting all its neighbors at the present depth prior to moving on to vertices at the next depth level.\n",
    "- It uses a queue to keep track of vertices to visit.\n",
    "\n",
    "#### Algorithm Steps\n",
    "\n",
    "1. **Choose a Starting Vertex**: Start from a chosen vertex.\n",
    "2. **Visit and Mark the Vertex**: Visit the vertex and mark it as visited.\n",
    "3. **Visit Neighbors at Current Depth**: Visit all unvisited neighbors of the current vertex.\n",
    "4. **Move to Next Depth**: Move to the next depth level and repeat step 3.\n",
    "\n"
   ]
  },
  {
   "cell_type": "code",
   "execution_count": 2,
   "id": "1cabf6bd",
   "metadata": {},
   "outputs": [
    {
     "name": "stdout",
     "output_type": "stream",
     "text": [
      "BFS traversal starting from vertex 0:\n",
      "0 1 2 3 "
     ]
    }
   ],
   "source": [
    "from collections import defaultdict, deque\n",
    "\n",
    "class Graph:\n",
    "    def __init__(self):\n",
    "        self.graph = defaultdict(list)\n",
    "\n",
    "    def add_edge(self, u, v):\n",
    "        self.graph[u].append(v)\n",
    "        self.graph[v].append(u)\n",
    "\n",
    "    def bfs(self, start_vertex):\n",
    "        visited = set()\n",
    "        queue = deque([start_vertex])\n",
    "\n",
    "        while queue:\n",
    "            vertex = queue.popleft()\n",
    "\n",
    "            if vertex not in visited:\n",
    "                visited.add(vertex)\n",
    "                print(vertex, end=' ')\n",
    "\n",
    "                for neighbor in self.graph[vertex]:\n",
    "                    if neighbor not in visited:\n",
    "                        queue.append(neighbor)\n",
    "\n",
    "# Usage\n",
    "graph = Graph()\n",
    "graph.add_edge(0, 1)\n",
    "graph.add_edge(0, 2)\n",
    "graph.add_edge(1, 2)\n",
    "graph.add_edge(2, 3)\n",
    "graph.add_edge(1, 3)\n",
    "\n",
    "print(\"BFS traversal starting from vertex 0:\")\n",
    "graph.bfs(0)  # Output: 0 1 2 3\n"
   ]
  },
  {
   "cell_type": "code",
   "execution_count": null,
   "id": "e2655133",
   "metadata": {},
   "outputs": [],
   "source": []
  }
 ],
 "metadata": {
  "kernelspec": {
   "display_name": "Python 3 (ipykernel)",
   "language": "python",
   "name": "python3"
  },
  "language_info": {
   "codemirror_mode": {
    "name": "ipython",
    "version": 3
   },
   "file_extension": ".py",
   "mimetype": "text/x-python",
   "name": "python",
   "nbconvert_exporter": "python",
   "pygments_lexer": "ipython3",
   "version": "3.9.18"
  },
  "varInspector": {
   "cols": {
    "lenName": 16,
    "lenType": 16,
    "lenVar": 40
   },
   "kernels_config": {
    "python": {
     "delete_cmd_postfix": "",
     "delete_cmd_prefix": "del ",
     "library": "var_list.py",
     "varRefreshCmd": "print(var_dic_list())"
    },
    "r": {
     "delete_cmd_postfix": ") ",
     "delete_cmd_prefix": "rm(",
     "library": "var_list.r",
     "varRefreshCmd": "cat(var_dic_list()) "
    }
   },
   "types_to_exclude": [
    "module",
    "function",
    "builtin_function_or_method",
    "instance",
    "_Feature"
   ],
   "window_display": false
  }
 },
 "nbformat": 4,
 "nbformat_minor": 5
}
