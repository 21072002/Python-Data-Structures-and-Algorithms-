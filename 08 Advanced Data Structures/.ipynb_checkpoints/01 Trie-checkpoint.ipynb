{
 "cells": [
  {
   "cell_type": "markdown",
   "id": "2a2c53e3",
   "metadata": {},
   "source": [
    "A Trie (also called a Prefix Tree) is a tree-like data structure used for efficiently storing and retrieving a collection of strings. It's particularly useful for tasks related to string manipulation and retrieval, like auto-completion and spell checking.\n",
    "\n",
    "### Trie Structure\n",
    "\n",
    "A Trie is composed of nodes, each representing a single character in a word. Each node can have links to other nodes representing the next characters in the words. The root node represents an empty string.\n",
    "\n",
    "- **Node Structure**:\n",
    "  - Value (character)\n",
    "  - Children (pointers to child nodes)\n",
    "  - End of Word (a flag to indicate if the node represents the end of a word)\n",
    "\n",
    "### Trie Operations\n",
    "\n",
    "#### 1. **Insertion**\n",
    "\n",
    "- Starting from the root, traverse the Trie according to the characters of the string to be inserted.\n",
    "- If a node for a character doesn't exist, create a new node.\n",
    "- Mark the last node as the end of a word.\n",
    "\n",
    "#### 2. **Search**\n",
    "\n",
    "- Traverse the Trie according to the characters of the string to be searched.\n",
    "- If the traversal ends at a node and that node is marked as the end of a word, the string exists in the Trie.\n",
    "\n",
    "#### 3. **Prefix Search**\n",
    "\n",
    "- Traverse the Trie according to the characters of the prefix.\n",
    "- If the traversal reaches a node, all words starting with the given prefix can be obtained by traversing the subtree rooted at that node.\n",
    "\n",
    "#### 4. **Deletion**\n",
    "\n",
    "- Perform a search for the string to be deleted.\n",
    "- After finding the string, mark the end of word flag as false.\n",
    "- If a node has no other words sharing it as a prefix, remove the node.\n",
    "\n"
   ]
  },
  {
   "cell_type": "code",
   "execution_count": 1,
   "id": "8ff76351",
   "metadata": {},
   "outputs": [
    {
     "name": "stdout",
     "output_type": "stream",
     "text": [
      "True\n",
      "False\n",
      "True\n"
     ]
    }
   ],
   "source": [
    "class TrieNode:\n",
    "    def __init__(self):\n",
    "        self.children = {}\n",
    "        self.is_end_of_word = False\n",
    "\n",
    "class Trie:\n",
    "    def __init__(self):\n",
    "        self.root = TrieNode()\n",
    "\n",
    "    def insert(self, word):\n",
    "        node = self.root\n",
    "        for char in word:\n",
    "            if char not in node.children:\n",
    "                node.children[char] = TrieNode()\n",
    "            node = node.children[char]\n",
    "        node.is_end_of_word = True\n",
    "\n",
    "    def search(self, word):\n",
    "        node = self.root\n",
    "        for char in word:\n",
    "            if char not in node.children:\n",
    "                return False\n",
    "            node = node.children[char]\n",
    "        return node.is_end_of_word\n",
    "\n",
    "    def starts_with(self, prefix):\n",
    "        node = self.root\n",
    "        for char in prefix:\n",
    "            if char not in node.children:\n",
    "                return False\n",
    "            node = node.children[char]\n",
    "        return True\n",
    "\n",
    "# Usage\n",
    "trie = Trie()\n",
    "trie.insert(\"hello\")\n",
    "trie.insert(\"hey\")\n",
    "trie.insert(\"apple\")\n",
    "\n",
    "print(trie.search(\"hello\"))  # Output: True\n",
    "print(trie.search(\"he\"))     # Output: False\n",
    "print(trie.starts_with(\"he\")) # Output: True\n"
   ]
  },
  {
   "cell_type": "code",
   "execution_count": null,
   "id": "cb693770",
   "metadata": {},
   "outputs": [],
   "source": []
  }
 ],
 "metadata": {
  "kernelspec": {
   "display_name": "Python 3 (ipykernel)",
   "language": "python",
   "name": "python3"
  },
  "language_info": {
   "codemirror_mode": {
    "name": "ipython",
    "version": 3
   },
   "file_extension": ".py",
   "mimetype": "text/x-python",
   "name": "python",
   "nbconvert_exporter": "python",
   "pygments_lexer": "ipython3",
   "version": "3.9.18"
  },
  "varInspector": {
   "cols": {
    "lenName": 16,
    "lenType": 16,
    "lenVar": 40
   },
   "kernels_config": {
    "python": {
     "delete_cmd_postfix": "",
     "delete_cmd_prefix": "del ",
     "library": "var_list.py",
     "varRefreshCmd": "print(var_dic_list())"
    },
    "r": {
     "delete_cmd_postfix": ") ",
     "delete_cmd_prefix": "rm(",
     "library": "var_list.r",
     "varRefreshCmd": "cat(var_dic_list()) "
    }
   },
   "types_to_exclude": [
    "module",
    "function",
    "builtin_function_or_method",
    "instance",
    "_Feature"
   ],
   "window_display": false
  }
 },
 "nbformat": 4,
 "nbformat_minor": 5
}
