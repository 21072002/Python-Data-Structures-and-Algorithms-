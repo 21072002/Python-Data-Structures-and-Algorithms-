{
 "cells": [
  {
   "cell_type": "markdown",
   "id": "06e09b6c",
   "metadata": {},
   "source": [
    "Dynamic programming is a powerful technique for solving problems by breaking them down into smaller subproblems and storing their solutions to avoid redundant calculations. There are two common approaches in dynamic programming: **Memoization** and the **Bottom-up approach**.\n",
    "\n",
    "### Memoization\n",
    "\n",
    "- **Memoization** is a top-down approach where you solve a problem recursively by breaking it down into smaller subproblems. However, instead of re-computing the solution for the same subproblem multiple times, you store the results in a data structure (usually a dictionary or an array).\n",
    "\n",
    "#### Steps for Memoization:\n",
    "\n",
    "1. **Create a Memoization Data Structure**: Initialize a data structure (e.g., dictionary) to store the results of subproblems.\n",
    "\n",
    "2. **Define a Recursive Function**: Create a recursive function to solve the problem, and check if you've already computed the solution for a particular subproblem in the memoization data structure.\n",
    "\n",
    "3. **Store and Return Results**: If the solution for a subproblem is found in the memoization data structure, return it. Otherwise, compute the solution, store it in the data structure, and return it.\n",
    "\n",
    "### Bottom-Up Approach (Tabulation)\n",
    "\n",
    "- In the **Bottom-up approach**, you start by solving the smallest subproblems and work your way up to the original problem. You typically use an iterative process, and you don't use recursion.\n",
    "\n",
    "#### Steps for Bottom-Up Approach:\n",
    "\n",
    "1. **Define the Subproblem Order**: Determine the order in which you will solve the subproblems. This order ensures that you have the solutions to smaller subproblems before tackling larger ones.\n",
    "\n",
    "2. **Initialize Storage**: Create a data structure (e.g., an array) to store the solutions to subproblems.\n",
    "\n",
    "3. **Solve Subproblems Iteratively**: Start with the smallest subproblems, compute their solutions, and store them. Use these solutions to compute solutions for larger subproblems.\n",
    "\n",
    "4. **Retrieve the Final Solution**: The final solution to the original problem is found in the data structure once you've solved all subproblems.\n",
    "\n"
   ]
  },
  {
   "cell_type": "code",
   "execution_count": 2,
   "id": "d0904f63",
   "metadata": {},
   "outputs": [
    {
     "name": "stdout",
     "output_type": "stream",
     "text": [
      "55\n"
     ]
    }
   ],
   "source": [
    "#Memoization\n",
    "def fibonacci_memo(n, memo={}):\n",
    "    if n in memo:\n",
    "        return memo[n]\n",
    "    if n <= 2:\n",
    "        return 1\n",
    "    memo[n] = fibonacci_memo(n - 1, memo) + fibonacci_memo(n - 2, memo)\n",
    "    return memo[n]\n",
    "\n",
    "print(fibonacci_memo(10))  # Output: 55\n"
   ]
  },
  {
   "cell_type": "code",
   "execution_count": 3,
   "id": "3b5e66f7",
   "metadata": {},
   "outputs": [
    {
     "name": "stdout",
     "output_type": "stream",
     "text": [
      "55\n"
     ]
    }
   ],
   "source": [
    "#Bottom-Up Approach\n",
    "def fibonacci_bottom_up(n):\n",
    "    if n <= 2:\n",
    "        return 1\n",
    "    fib = [0] * (n + 1)\n",
    "    fib[1] = 1\n",
    "    fib[2] = 1\n",
    "    for i in range(3, n + 1):\n",
    "        fib[i] = fib[i - 1] + fib[i - 2]\n",
    "    return fib[n]\n",
    "\n",
    "print(fibonacci_bottom_up(10))  # Output: 55\n"
   ]
  },
  {
   "cell_type": "code",
   "execution_count": null,
   "id": "c341f056",
   "metadata": {},
   "outputs": [],
   "source": []
  }
 ],
 "metadata": {
  "kernelspec": {
   "display_name": "Python 3 (ipykernel)",
   "language": "python",
   "name": "python3"
  },
  "language_info": {
   "codemirror_mode": {
    "name": "ipython",
    "version": 3
   },
   "file_extension": ".py",
   "mimetype": "text/x-python",
   "name": "python",
   "nbconvert_exporter": "python",
   "pygments_lexer": "ipython3",
   "version": "3.9.18"
  },
  "varInspector": {
   "cols": {
    "lenName": 16,
    "lenType": 16,
    "lenVar": 40
   },
   "kernels_config": {
    "python": {
     "delete_cmd_postfix": "",
     "delete_cmd_prefix": "del ",
     "library": "var_list.py",
     "varRefreshCmd": "print(var_dic_list())"
    },
    "r": {
     "delete_cmd_postfix": ") ",
     "delete_cmd_prefix": "rm(",
     "library": "var_list.r",
     "varRefreshCmd": "cat(var_dic_list()) "
    }
   },
   "types_to_exclude": [
    "module",
    "function",
    "builtin_function_or_method",
    "instance",
    "_Feature"
   ],
   "window_display": false
  }
 },
 "nbformat": 4,
 "nbformat_minor": 5
}
