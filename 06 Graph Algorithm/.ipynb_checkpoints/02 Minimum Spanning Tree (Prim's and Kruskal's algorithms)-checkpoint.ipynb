{
 "cells": [
  {
   "cell_type": "markdown",
   "id": "2adf8c1c",
   "metadata": {},
   "source": [
    "### Prim's Algorithm (Minimum Spanning Tree)\n",
    "\n",
    "#### Key Points\n",
    "\n",
    "- Prim's Algorithm grows the minimum spanning tree from a starting vertex by adding the smallest edge at each step.\n",
    "- It uses a priority queue to select the smallest edge.\n",
    "\n",
    "#### Algorithm Steps\n",
    "\n",
    "1. **Initialize**: Choose a starting vertex arbitrarily and add it to the MST.\n",
    "2. **Select Edge with Minimum Weight**: From the vertices in the MST, choose an edge with the smallest weight that connects to a vertex outside the MST.\n",
    "3. **Add Edge to MST**: Add the selected edge to the MST and mark the connected vertex as part of the MST.\n",
    "4. **Repeat Steps 2 and 3**: Repeat the process until all vertices are part of the MST.\n",
    "\n",
    "### Kruskal's Algorithm (Minimum Spanning Tree)\n",
    "\n",
    "#### Key Points\n",
    "\n",
    "- Kruskal's Algorithm builds the minimum spanning tree by adding edges in increasing order of weights.\n",
    "- It uses the disjoint-set data structure to detect cycles.\n",
    "\n",
    "#### Algorithm Steps\n",
    "\n",
    "1. **Initialize**: Create a forest F (a set of trees), where each vertex is a separate tree.\n",
    "2. **Sort Edges by Weight**: Sort all edges in non-decreasing order of their weight.\n",
    "3. **Add Edges to MST**: Add edges to the MST in the sorted order, ensuring they do not form a cycle in the current MST.\n",
    "\n"
   ]
  },
  {
   "cell_type": "code",
   "execution_count": 5,
   "id": "127fd16c",
   "metadata": {
    "scrolled": true
   },
   "outputs": [
    {
     "name": "stdout",
     "output_type": "stream",
     "text": [
      "Prim's MST Weight: 4\n",
      "Kruskal's MST Weight: 4\n"
     ]
    }
   ],
   "source": [
    "from heapq import heappush, heappop\n",
    "\n",
    "class Graph:\n",
    "    def __init__(self, vertices):\n",
    "        self.V = vertices\n",
    "        self.graph = defaultdict(list)\n",
    "\n",
    "    def add_edge(self, u, v, weight):\n",
    "        self.graph[u].append((v, weight))\n",
    "        self.graph[v].append((u, weight))\n",
    "\n",
    "    def prim_mst(self):\n",
    "        min_heap = []  # Priority queue for choosing edges with the minimum weight\n",
    "        visited = set()\n",
    "        mst_weight = 0\n",
    "\n",
    "        start_node = 0  # Starting node for Prim's Algorithm\n",
    "\n",
    "        heappush(min_heap, (0, start_node))\n",
    "\n",
    "        while min_heap:\n",
    "            weight, current_node = heappop(min_heap)\n",
    "\n",
    "            if current_node in visited:\n",
    "                continue\n",
    "\n",
    "            visited.add(current_node)\n",
    "            mst_weight += weight\n",
    "\n",
    "            for neighbor, edge_weight in self.graph[current_node]:\n",
    "                if neighbor not in visited:\n",
    "                    heappush(min_heap, (edge_weight, neighbor))\n",
    "\n",
    "        return mst_weight\n",
    "\n",
    "    def kruskal_mst(self):\n",
    "        parent = [-1] * self.V\n",
    "        mst_weight = 0\n",
    "\n",
    "        # Find function using Union-Find\n",
    "        def find(node):\n",
    "            if parent[node] != -1:\n",
    "                parent[node] = find(parent[node])\n",
    "                return parent[node]\n",
    "            return node\n",
    "\n",
    "        # Union function using Union-Find\n",
    "        def union(node1, node2):\n",
    "            nonlocal mst_weight\n",
    "            root1 = find(node1)\n",
    "            root2 = find(node2)\n",
    "\n",
    "            if root1 != root2:\n",
    "                parent[root1] = root2\n",
    "                mst_weight += weight\n",
    "\n",
    "        edges = []\n",
    "        for node in self.graph:\n",
    "            for neighbor, weight in self.graph[node]:\n",
    "                edges.append((weight, node, neighbor))\n",
    "\n",
    "        edges.sort()\n",
    "\n",
    "        for edge in edges:\n",
    "            weight, node1, node2 = edge\n",
    "            union(node1, node2)\n",
    "\n",
    "        return mst_weight\n",
    "\n",
    "# Usage\n",
    "graph = Graph(4)\n",
    "graph.add_edge(0, 1, 2)\n",
    "graph.add_edge(0, 2, 3)\n",
    "graph.add_edge(1, 2, 1)\n",
    "graph.add_edge(1, 3, 1)\n",
    "graph.add_edge(2, 3, 2)\n",
    "\n",
    "print(\"Prim's MST Weight:\", graph.prim_mst())  # Output: 4\n",
    "print(\"Kruskal's MST Weight:\", graph.kruskal_mst())  # Output: 4\n"
   ]
  },
  {
   "cell_type": "code",
   "execution_count": null,
   "id": "5bf07360",
   "metadata": {},
   "outputs": [],
   "source": []
  }
 ],
 "metadata": {
  "kernelspec": {
   "display_name": "Python 3 (ipykernel)",
   "language": "python",
   "name": "python3"
  },
  "language_info": {
   "codemirror_mode": {
    "name": "ipython",
    "version": 3
   },
   "file_extension": ".py",
   "mimetype": "text/x-python",
   "name": "python",
   "nbconvert_exporter": "python",
   "pygments_lexer": "ipython3",
   "version": "3.9.18"
  },
  "varInspector": {
   "cols": {
    "lenName": 16,
    "lenType": 16,
    "lenVar": 40
   },
   "kernels_config": {
    "python": {
     "delete_cmd_postfix": "",
     "delete_cmd_prefix": "del ",
     "library": "var_list.py",
     "varRefreshCmd": "print(var_dic_list())"
    },
    "r": {
     "delete_cmd_postfix": ") ",
     "delete_cmd_prefix": "rm(",
     "library": "var_list.r",
     "varRefreshCmd": "cat(var_dic_list()) "
    }
   },
   "types_to_exclude": [
    "module",
    "function",
    "builtin_function_or_method",
    "instance",
    "_Feature"
   ],
   "window_display": false
  }
 },
 "nbformat": 4,
 "nbformat_minor": 5
}
