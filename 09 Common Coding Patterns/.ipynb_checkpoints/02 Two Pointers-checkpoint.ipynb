{
 "cells": [
  {
   "cell_type": "markdown",
   "id": "e596ced1",
   "metadata": {},
   "source": [
    "The Two Pointers technique is a popular algorithmic approach used to solve problems with arrays or sequences. It often helps optimize the time complexity of the solution by efficiently traversing the array using two pointers or indices.\n",
    "\n",
    "### Two Pointers Algorithm Steps\n",
    "\n",
    "1. **Initialization**: Set up two pointers or indices at appropriate positions in the array.\n",
    "2. **Process**: Move the pointers accordingly based on the problem's requirements.\n",
    "3. **Update Results**: Update the result based on the current positions of the pointers.\n",
    "\n",
    "### Types of Two Pointers\n",
    "\n",
    "- **Same Direction Two Pointers**: Both pointers traverse the array in the same direction, usually to find a subarray or subsequence satisfying certain conditions.\n",
    "- **Opposite Direction Two Pointers**: The pointers start at opposite ends of the array and move towards each other, often used in problems related to searching or sorting.\n",
    "\n",
    "### Common Problems Solved Using Two Pointers\n",
    "\n",
    "- **Two Sum**\n",
    "- **Three Sum**\n",
    "- **Trapping Rain Water**\n",
    "- **Linked List Cycle Detection**\n",
    "- **Palindrome Check**\n",
    "\n"
   ]
  },
  {
   "cell_type": "code",
   "execution_count": 2,
   "id": "9157ab77",
   "metadata": {},
   "outputs": [
    {
     "name": "stdout",
     "output_type": "stream",
     "text": [
      "Pair with sum 18 : [3, 15]\n"
     ]
    }
   ],
   "source": [
    "'''Example Code (Python)\n",
    "\n",
    "Let's implement the Two Pointers technique to find a pair in a sorted array that sums up to a given target.'''\n",
    "\n",
    "\n",
    "def find_pair(arr, target):\n",
    "    left = 0\n",
    "    right = len(arr) - 1\n",
    "\n",
    "    while left < right:\n",
    "        current_sum = arr[left] + arr[right]\n",
    "\n",
    "        if current_sum == target:\n",
    "            return [arr[left], arr[right]]\n",
    "        elif current_sum < target:\n",
    "            left += 1\n",
    "        else:\n",
    "            right -= 1\n",
    "\n",
    "    return None\n",
    "\n",
    "# Usage\n",
    "arr = [2, 3, 7, 11, 15]\n",
    "target = 18\n",
    "pair = find_pair(arr, target)\n",
    "print(\"Pair with sum\", target, \":\", pair)  # Output: [3, 15]\n"
   ]
  },
  {
   "cell_type": "markdown",
   "id": "3e08b711",
   "metadata": {},
   "source": [
    "In this example, we define a function `find_pair` that finds a pair with a given sum in a sorted array using the Two Pointers technique.\n",
    "\n",
    "Feel free to ask if you have any further questions or need additional clarification!"
   ]
  },
  {
   "cell_type": "code",
   "execution_count": null,
   "id": "413a3973",
   "metadata": {},
   "outputs": [],
   "source": []
  }
 ],
 "metadata": {
  "kernelspec": {
   "display_name": "Python 3 (ipykernel)",
   "language": "python",
   "name": "python3"
  },
  "language_info": {
   "codemirror_mode": {
    "name": "ipython",
    "version": 3
   },
   "file_extension": ".py",
   "mimetype": "text/x-python",
   "name": "python",
   "nbconvert_exporter": "python",
   "pygments_lexer": "ipython3",
   "version": "3.9.18"
  },
  "varInspector": {
   "cols": {
    "lenName": 16,
    "lenType": 16,
    "lenVar": 40
   },
   "kernels_config": {
    "python": {
     "delete_cmd_postfix": "",
     "delete_cmd_prefix": "del ",
     "library": "var_list.py",
     "varRefreshCmd": "print(var_dic_list())"
    },
    "r": {
     "delete_cmd_postfix": ") ",
     "delete_cmd_prefix": "rm(",
     "library": "var_list.r",
     "varRefreshCmd": "cat(var_dic_list()) "
    }
   },
   "types_to_exclude": [
    "module",
    "function",
    "builtin_function_or_method",
    "instance",
    "_Feature"
   ],
   "window_display": false
  }
 },
 "nbformat": 4,
 "nbformat_minor": 5
}
