{
 "cells": [
  {
   "cell_type": "markdown",
   "id": "bd88a49c",
   "metadata": {},
   "source": [
    "# Graphs (Directed, Undirected, Weighted, etc.)"
   ]
  },
  {
   "cell_type": "markdown",
   "id": "2973c4c3",
   "metadata": {},
   "source": [
    "#### Definition\n",
    "\n",
    "- A graph is a collection of nodes (vertices) and edges that connect pairs of nodes.\n",
    "- Graphs are a fundamental data structure used to represent relationships or connections between entities.\n",
    "\n",
    "#### Key Points\n",
    "\n",
    "- Graphs can be either directed or undirected, depending on whether edges have a specific direction.\n",
    "- Edges can be weighted, meaning they have a numerical value associated with them.\n",
    "\n"
   ]
  },
  {
   "cell_type": "code",
   "execution_count": 3,
   "id": "9af0a97d",
   "metadata": {},
   "outputs": [
    {
     "name": "stdout",
     "output_type": "stream",
     "text": [
      "Graph Representation:\n",
      "Node 0 is connected to: 1, 2\n",
      "Node 1 is connected to: 0, 2\n",
      "Node 2 is connected to: 0, 1, 3\n",
      "Node 3 is connected to: 2\n"
     ]
    }
   ],
   "source": [
    "class Graph:\n",
    "    def __init__(self):\n",
    "        self.graph = {}\n",
    "\n",
    "    def add_edge(self, u, v):\n",
    "        self.graph.setdefault(u, []).append(v)\n",
    "        self.graph.setdefault(v, []).append(u)\n",
    "\n",
    "    def display(self):\n",
    "        for node in self.graph:\n",
    "            print(f\"Node {node} is connected to: {', '.join(str(neighbor) for neighbor in self.graph[node])}\")\n",
    "\n",
    "# Usage\n",
    "graph = Graph()\n",
    "graph.add_edge(0, 1)\n",
    "graph.add_edge(0, 2)\n",
    "graph.add_edge(1, 2)\n",
    "graph.add_edge(2, 3)\n",
    "\n",
    "print(\"Graph Representation:\")\n",
    "graph.display()\n"
   ]
  },
  {
   "cell_type": "markdown",
   "id": "a0fa2ba1",
   "metadata": {},
   "source": [
    "### Directed Graphs\n",
    "\n",
    "#### Definition\n",
    "\n",
    "- A directed graph (digraph) is a graph in which edges have a specific direction, from one vertex to another.\n",
    "- Edges are ordered pairs of nodes (u, v) where the edge goes from u to v.\n",
    "\n",
    "#### Key Points\n",
    "\n",
    "- In directed graphs, edges can be unidirectional or bidirectional.\n",
    "\n"
   ]
  },
  {
   "cell_type": "code",
   "execution_count": 4,
   "id": "ba856bcf",
   "metadata": {},
   "outputs": [
    {
     "name": "stdout",
     "output_type": "stream",
     "text": [
      "Directed Graph Representation:\n",
      "Edge: 0 -> 1\n",
      "Edge: 1 -> 2\n",
      "Edge: 2 -> 0\n"
     ]
    }
   ],
   "source": [
    "class DirectedGraph:\n",
    "    def __init__(self):\n",
    "        self.graph = {}\n",
    "\n",
    "    def add_edge(self, u, v):\n",
    "        self.graph.setdefault(u, []).append(v)\n",
    "\n",
    "    def display(self):\n",
    "        for node in self.graph:\n",
    "            for neighbor in self.graph[node]:\n",
    "                print(f\"Edge: {node} -> {neighbor}\")\n",
    "\n",
    "# Usage\n",
    "directed_graph = DirectedGraph()\n",
    "directed_graph.add_edge(0, 1)\n",
    "directed_graph.add_edge(1, 2)\n",
    "directed_graph.add_edge(2, 0)\n",
    "\n",
    "print(\"Directed Graph Representation:\")\n",
    "directed_graph.display()\n"
   ]
  },
  {
   "cell_type": "markdown",
   "id": "4422cb67",
   "metadata": {},
   "source": [
    "### Weighted Graphs\n",
    "\n",
    "#### Definition\n",
    "\n",
    "- A weighted graph is a graph in which each edge has an associated numerical value, known as the weight or cost.\n",
    "- Weighted graphs are used to model scenarios where the edges have different costs or distances.\n",
    "\n",
    "#### Key Points\n",
    "\n",
    "- The weight can represent various quantities such as distance, time, cost, etc.\n",
    "\n"
   ]
  },
  {
   "cell_type": "code",
   "execution_count": 5,
   "id": "ff7d0548",
   "metadata": {},
   "outputs": [
    {
     "name": "stdout",
     "output_type": "stream",
     "text": [
      "Weighted Graph Representation:\n",
      "Edge: 0 -(5)-> 1\n",
      "Edge: 0 -(2)-> 2\n",
      "Edge: 1 -(5)-> 0\n",
      "Edge: 1 -(3)-> 2\n",
      "Edge: 2 -(3)-> 1\n",
      "Edge: 2 -(2)-> 0\n"
     ]
    }
   ],
   "source": [
    "class WeightedGraph:\n",
    "    def __init__(self):\n",
    "        self.graph = {}\n",
    "\n",
    "    def add_edge(self, u, v, weight):\n",
    "        self.graph.setdefault(u, []).append((v, weight))\n",
    "        self.graph.setdefault(v, []).append((u, weight))\n",
    "\n",
    "    def display(self):\n",
    "        for node in self.graph:\n",
    "            for neighbor, weight in self.graph[node]:\n",
    "                print(f\"Edge: {node} -({weight})-> {neighbor}\")\n",
    "\n",
    "# Usage\n",
    "weighted_graph = WeightedGraph()\n",
    "weighted_graph.add_edge(0, 1, 5)\n",
    "weighted_graph.add_edge(1, 2, 3)\n",
    "weighted_graph.add_edge(2, 0, 2)\n",
    "\n",
    "print(\"Weighted Graph Representation:\")\n",
    "weighted_graph.display()\n"
   ]
  },
  {
   "cell_type": "code",
   "execution_count": null,
   "id": "bc170507",
   "metadata": {},
   "outputs": [],
   "source": []
  }
 ],
 "metadata": {
  "kernelspec": {
   "display_name": "Python 3 (ipykernel)",
   "language": "python",
   "name": "python3"
  },
  "language_info": {
   "codemirror_mode": {
    "name": "ipython",
    "version": 3
   },
   "file_extension": ".py",
   "mimetype": "text/x-python",
   "name": "python",
   "nbconvert_exporter": "python",
   "pygments_lexer": "ipython3",
   "version": "3.9.18"
  },
  "varInspector": {
   "cols": {
    "lenName": 16,
    "lenType": 16,
    "lenVar": 40
   },
   "kernels_config": {
    "python": {
     "delete_cmd_postfix": "",
     "delete_cmd_prefix": "del ",
     "library": "var_list.py",
     "varRefreshCmd": "print(var_dic_list())"
    },
    "r": {
     "delete_cmd_postfix": ") ",
     "delete_cmd_prefix": "rm(",
     "library": "var_list.r",
     "varRefreshCmd": "cat(var_dic_list()) "
    }
   },
   "types_to_exclude": [
    "module",
    "function",
    "builtin_function_or_method",
    "instance",
    "_Feature"
   ],
   "window_display": false
  }
 },
 "nbformat": 4,
 "nbformat_minor": 5
}
