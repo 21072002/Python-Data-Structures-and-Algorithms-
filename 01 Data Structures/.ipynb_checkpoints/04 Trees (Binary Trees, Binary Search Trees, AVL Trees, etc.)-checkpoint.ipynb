{
 "cells": [
  {
   "cell_type": "markdown",
   "id": "901a1d8b",
   "metadata": {},
   "source": [
    "# Trees (Binary Trees, Binary Search Trees, AVL Trees, etc.)"
   ]
  },
  {
   "cell_type": "markdown",
   "id": "9531c3eb",
   "metadata": {},
   "source": [
    "### Binary Trees\n",
    "\n",
    "#### Definition\n",
    "\n",
    "- A binary tree is a hierarchical data structure in which each node has at most two children, referred to as the left child and the right child.\n",
    "- The topmost node in a binary tree is called the root.\n",
    "- Binary trees are widely used in computer science for various purposes, such as representing hierarchical data structures.\n",
    "\n",
    "#### Key Points\n",
    "\n",
    "- Nodes in a binary tree consist of a value (data) and references (links) to the left and right children.\n",
    "- Traversal methods: Preorder (root, left, right), Inorder (left, root, right), Postorder (left, right, root).\n",
    "\n"
   ]
  },
  {
   "cell_type": "code",
   "execution_count": 4,
   "id": "f1ed2457",
   "metadata": {},
   "outputs": [
    {
     "name": "stdout",
     "output_type": "stream",
     "text": [
      "Inorder Traversal:\n",
      "4 2 5 1 3 "
     ]
    }
   ],
   "source": [
    "class TreeNode:\n",
    "    def __init__(self, value):\n",
    "        self.value = value\n",
    "        self.left = None\n",
    "        self.right = None\n",
    "\n",
    "    def inorder_traversal(self):\n",
    "        if self.left:\n",
    "            self.left.inorder_traversal()\n",
    "        print(self.value, end=' ')\n",
    "        if self.right:\n",
    "            self.right.inorder_traversal()\n",
    "\n",
    "# Usage\n",
    "root = TreeNode(1)\n",
    "root.left = TreeNode(2)\n",
    "root.right = TreeNode(3)\n",
    "root.left.left = TreeNode(4)\n",
    "root.left.right = TreeNode(5)\n",
    "\n",
    "print(\"Inorder Traversal:\")\n",
    "root.inorder_traversal()  # Output: 4 2 5 1 3\n"
   ]
  },
  {
   "cell_type": "markdown",
   "id": "109f5f72",
   "metadata": {},
   "source": [
    "### Binary Search Trees (BST)\n",
    "\n",
    "#### Definition\n",
    "\n",
    "- A binary search tree is a binary tree in which each node's left child contains values less than the node, and the right child contains values greater than the node.\n",
    "- Allows for efficient search, insertions, and deletions of elements.\n",
    "\n",
    "#### Key Points\n",
    "\n",
    "- In a BST, for any given node:\n",
    "  - All nodes in its left subtree have values less than the node.\n",
    "  - All nodes in its right subtree have values greater than the node.\n",
    "- Efficient search time complexity: O(log n) on average for balanced trees.\n",
    "\n"
   ]
  },
  {
   "cell_type": "code",
   "execution_count": 5,
   "id": "171cf214",
   "metadata": {},
   "outputs": [
    {
     "name": "stdout",
     "output_type": "stream",
     "text": [
      "Inorder Traversal (BST):\n",
      "2 3 4 5 7 "
     ]
    }
   ],
   "source": [
    "class TreeNode:\n",
    "    def __init__(self, value):\n",
    "        self.value = value\n",
    "        self.left = None\n",
    "        self.right = None\n",
    "\n",
    "    def insert(self, value):\n",
    "        if value < self.value:\n",
    "            if self.left is None:\n",
    "                self.left = TreeNode(value)\n",
    "            else:\n",
    "                self.left.insert(value)\n",
    "        elif value > self.value:\n",
    "            if self.right is None:\n",
    "                self.right = TreeNode(value)\n",
    "            else:\n",
    "                self.right.insert(value)\n",
    "\n",
    "    def inorder_traversal(self):\n",
    "        if self.left:\n",
    "            self.left.inorder_traversal()\n",
    "        print(self.value, end=' ')\n",
    "        if self.right:\n",
    "            self.right.inorder_traversal()\n",
    "\n",
    "# Usage\n",
    "root = TreeNode(5)\n",
    "root.insert(3)\n",
    "root.insert(7)\n",
    "root.insert(4)\n",
    "root.insert(2)\n",
    "\n",
    "print(\"Inorder Traversal (BST):\")\n",
    "root.inorder_traversal()  # Output: 2 3 4 5 7\n"
   ]
  },
  {
   "cell_type": "markdown",
   "id": "13b54b7e",
   "metadata": {},
   "source": [
    "### AVL Trees\n",
    "\n",
    "#### Definition\n",
    "\n",
    "- An AVL tree is a self-balancing binary search tree in which the heights of the two child subtrees of every node differ by at most one.\n",
    "- Ensures that the tree remains balanced and operations like search, insertions, and deletions are efficient.\n",
    "\n",
    "#### Key Points\n",
    "\n",
    "- AVL trees use rotations to maintain balance after insertions and deletions.\n",
    "- Balanced AVL trees have a height of approximately log(n) for n elements.\n",
    "\n"
   ]
  },
  {
   "cell_type": "code",
   "execution_count": 6,
   "id": "145bf70f",
   "metadata": {},
   "outputs": [
    {
     "name": "stdout",
     "output_type": "stream",
     "text": [
      "Inorder Traversal (AVL Tree):\n",
      "(3, 1) (5, 1) (7, 1) (10, 1) (20, 1) "
     ]
    }
   ],
   "source": [
    "class AVLTreeNode:\n",
    "    def __init__(self, value):\n",
    "        self.value = value\n",
    "        self.left = None\n",
    "        self.right = None\n",
    "        self.height = 1\n",
    "\n",
    "    def inorder_traversal(self):\n",
    "        if self.left:\n",
    "            self.left.inorder_traversal()\n",
    "        print(f\"({self.value}, {self.height})\", end=' ')\n",
    "        if self.right:\n",
    "            self.right.inorder_traversal()\n",
    "\n",
    "# Usage\n",
    "root = AVLTreeNode(10)\n",
    "root.left = AVLTreeNode(5)\n",
    "root.right = AVLTreeNode(20)\n",
    "root.left.left = AVLTreeNode(3)\n",
    "root.left.right = AVLTreeNode(7)\n",
    "\n",
    "print(\"Inorder Traversal (AVL Tree):\")\n",
    "root.inorder_traversal()  # Output: (3, 1) (5, 2) (7, 1) (10, 3) (20, 1)\n"
   ]
  },
  {
   "cell_type": "code",
   "execution_count": null,
   "id": "26e0d275",
   "metadata": {},
   "outputs": [],
   "source": []
  }
 ],
 "metadata": {
  "kernelspec": {
   "display_name": "Python 3 (ipykernel)",
   "language": "python",
   "name": "python3"
  },
  "language_info": {
   "codemirror_mode": {
    "name": "ipython",
    "version": 3
   },
   "file_extension": ".py",
   "mimetype": "text/x-python",
   "name": "python",
   "nbconvert_exporter": "python",
   "pygments_lexer": "ipython3",
   "version": "3.9.18"
  },
  "varInspector": {
   "cols": {
    "lenName": 16,
    "lenType": 16,
    "lenVar": 40
   },
   "kernels_config": {
    "python": {
     "delete_cmd_postfix": "",
     "delete_cmd_prefix": "del ",
     "library": "var_list.py",
     "varRefreshCmd": "print(var_dic_list())"
    },
    "r": {
     "delete_cmd_postfix": ") ",
     "delete_cmd_prefix": "rm(",
     "library": "var_list.r",
     "varRefreshCmd": "cat(var_dic_list()) "
    }
   },
   "types_to_exclude": [
    "module",
    "function",
    "builtin_function_or_method",
    "instance",
    "_Feature"
   ],
   "window_display": false
  }
 },
 "nbformat": 4,
 "nbformat_minor": 5
}
