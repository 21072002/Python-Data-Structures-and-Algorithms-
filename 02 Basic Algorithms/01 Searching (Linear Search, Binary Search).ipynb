{
 "cells": [
  {
   "cell_type": "markdown",
   "id": "89008d67",
   "metadata": {},
   "source": [
    "### Linear Search\n",
    "\n",
    "#### Definition\n",
    "\n",
    "- Linear search, also known as sequential search, is a straightforward searching algorithm.\n",
    "- It sequentially checks each element in a list to see if it matches the target value.\n",
    "\n",
    "#### Key Points\n",
    "\n",
    "- Linear search has a time complexity of O(n), where n is the number of elements in the list.\n",
    "- It is useful for small lists or when the list is not sorted.\n"
   ]
  },
  {
   "cell_type": "code",
   "execution_count": 2,
   "id": "0332a2f1",
   "metadata": {},
   "outputs": [
    {
     "name": "stdout",
     "output_type": "stream",
     "text": [
      "Target 7 found at index 2\n"
     ]
    }
   ],
   "source": [
    "def linear_search(arr, target):\n",
    "    for i, item in enumerate(arr):\n",
    "        if item == target:\n",
    "            return i  # Return the index if the target is found\n",
    "    return -1  # Return -1 if the target is not found\n",
    "\n",
    "# Usage\n",
    "arr = [10, 5, 7, 3, 8]\n",
    "target = 7\n",
    "result = linear_search(arr, target)\n",
    "\n",
    "if result != -1:\n",
    "    print(f\"Target {target} found at index {result}\")\n",
    "else:\n",
    "    print(f\"Target {target} not found\")\n"
   ]
  },
  {
   "cell_type": "markdown",
   "id": "0c8dae5f",
   "metadata": {},
   "source": [
    "### Binary Search\n",
    "\n",
    "#### Definition\n",
    "\n",
    "- Binary search is an efficient searching algorithm for sorted arrays.\n",
    "- It works by repeatedly dividing in half the portion of the array that could contain the target value.\n",
    "\n",
    "#### Key Points\n",
    "\n",
    "- Binary search has a time complexity of O(log n), where n is the number of elements in the array.\n",
    "- The array must be sorted for binary search to work.\n",
    "\n"
   ]
  },
  {
   "cell_type": "code",
   "execution_count": 3,
   "id": "6fdd7648",
   "metadata": {},
   "outputs": [
    {
     "name": "stdout",
     "output_type": "stream",
     "text": [
      "Target 12 found at index 4\n"
     ]
    }
   ],
   "source": [
    "def binary_search(arr, target):\n",
    "    left = 0\n",
    "    right = len(arr) - 1\n",
    "\n",
    "    while left <= right:\n",
    "        mid = left + (right - left) // 2\n",
    "        if arr[mid] == target:\n",
    "            return mid  # Return the index if the target is found\n",
    "        elif arr[mid] < target:\n",
    "            left = mid + 1\n",
    "        else:\n",
    "            right = mid - 1\n",
    "\n",
    "    return -1  # Return -1 if the target is not found\n",
    "\n",
    "# Usage (sorted array)\n",
    "arr = [3, 5, 7, 10, 12, 15, 18, 20]\n",
    "target = 12\n",
    "result = binary_search(arr, target)\n",
    "\n",
    "if result != -1:\n",
    "    print(f\"Target {target} found at index {result}\")\n",
    "else:\n",
    "    print(f\"Target {target} not found\")\n"
   ]
  },
  {
   "cell_type": "code",
   "execution_count": null,
   "id": "51cd9396",
   "metadata": {},
   "outputs": [],
   "source": []
  }
 ],
 "metadata": {
  "kernelspec": {
   "display_name": "Python 3 (ipykernel)",
   "language": "python",
   "name": "python3"
  },
  "language_info": {
   "codemirror_mode": {
    "name": "ipython",
    "version": 3
   },
   "file_extension": ".py",
   "mimetype": "text/x-python",
   "name": "python",
   "nbconvert_exporter": "python",
   "pygments_lexer": "ipython3",
   "version": "3.9.18"
  },
  "varInspector": {
   "cols": {
    "lenName": 16,
    "lenType": 16,
    "lenVar": 40
   },
   "kernels_config": {
    "python": {
     "delete_cmd_postfix": "",
     "delete_cmd_prefix": "del ",
     "library": "var_list.py",
     "varRefreshCmd": "print(var_dic_list())"
    },
    "r": {
     "delete_cmd_postfix": ") ",
     "delete_cmd_prefix": "rm(",
     "library": "var_list.r",
     "varRefreshCmd": "cat(var_dic_list()) "
    }
   },
   "types_to_exclude": [
    "module",
    "function",
    "builtin_function_or_method",
    "instance",
    "_Feature"
   ],
   "window_display": false
  }
 },
 "nbformat": 4,
 "nbformat_minor": 5
}
