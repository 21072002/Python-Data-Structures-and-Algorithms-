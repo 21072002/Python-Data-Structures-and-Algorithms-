{
 "cells": [
  {
   "cell_type": "markdown",
   "id": "2a2385d4",
   "metadata": {},
   "source": [
    "Let's delve into **Topological Sort**, which is an algorithm used to linearly order a directed graph in a way that for every directed edge \\(u \\rightarrow v\\), vertex \\(u\\) comes before \\(v\\) in the ordering.\n",
    "\n",
    "### Topological Sort\n",
    "\n",
    "#### Key Points\n",
    "\n",
    "- Topological sort is applicable to Directed Acyclic Graphs (DAGs) only.\n",
    "- It provides a linear ordering of vertices such that for every directed edge \\(u \\rightarrow v\\), vertex \\(u\\) comes before \\(v\\).\n",
    "\n",
    "#### Algorithm Steps\n",
    "\n",
    "1. **Initialize**: Start with an empty result list.\n",
    "2. **DFS Traversal with Stack**: Perform a depth-first traversal (DFS) starting from any vertex. When a vertex is completely explored, push it onto a stack.\n",
    "3. **Pop from Stack**: Pop vertices from the stack. The order of popping will be the topological order.\n",
    "\n"
   ]
  },
  {
   "cell_type": "code",
   "execution_count": 1,
   "id": "a0c40cfa",
   "metadata": {},
   "outputs": [
    {
     "name": "stdout",
     "output_type": "stream",
     "text": [
      "Topological Sort:\n",
      "[5, 4, 2, 3, 1, 0]\n"
     ]
    }
   ],
   "source": [
    "from collections import defaultdict\n",
    "\n",
    "class Graph:\n",
    "    def __init__(self, vertices):\n",
    "        self.graph = defaultdict(list)  # Adjacency list\n",
    "        self.V = vertices  # Number of vertices\n",
    "\n",
    "    def add_edge(self, u, v):\n",
    "        self.graph[u].append(v)\n",
    "\n",
    "    def topological_sort_util(self, v, visited, stack):\n",
    "        visited[v] = True\n",
    "\n",
    "        for i in self.graph[v]:\n",
    "            if not visited[i]:\n",
    "                self.topological_sort_util(i, visited, stack)\n",
    "\n",
    "        stack.append(v)\n",
    "\n",
    "    def topological_sort(self):\n",
    "        visited = [False] * self.V\n",
    "        stack = []\n",
    "\n",
    "        for i in range(self.V):\n",
    "            if not visited[i]:\n",
    "                self.topological_sort_util(i, visited, stack)\n",
    "\n",
    "        return stack[::-1]  # Return the reversed stack\n",
    "\n",
    "# Usage\n",
    "graph = Graph(6)\n",
    "graph.add_edge(5, 2)\n",
    "graph.add_edge(5, 0)\n",
    "graph.add_edge(4, 0)\n",
    "graph.add_edge(4, 1)\n",
    "graph.add_edge(2, 3)\n",
    "graph.add_edge(3, 1)\n",
    "\n",
    "print(\"Topological Sort:\")\n",
    "result = graph.topological_sort()\n",
    "print(result)  # Output: [5, 4, 2, 3, 1, 0]\n"
   ]
  },
  {
   "cell_type": "markdown",
   "id": "b506938b",
   "metadata": {},
   "source": [
    "In this example, we define a Graph class to represent the graph using an adjacency list. We then implement the topological sort algorithm using depth-first search (DFS)."
   ]
  },
  {
   "cell_type": "code",
   "execution_count": null,
   "id": "7a4d5d23",
   "metadata": {},
   "outputs": [],
   "source": []
  }
 ],
 "metadata": {
  "kernelspec": {
   "display_name": "Python 3 (ipykernel)",
   "language": "python",
   "name": "python3"
  },
  "language_info": {
   "codemirror_mode": {
    "name": "ipython",
    "version": 3
   },
   "file_extension": ".py",
   "mimetype": "text/x-python",
   "name": "python",
   "nbconvert_exporter": "python",
   "pygments_lexer": "ipython3",
   "version": "3.9.18"
  },
  "varInspector": {
   "cols": {
    "lenName": 16,
    "lenType": 16,
    "lenVar": 40
   },
   "kernels_config": {
    "python": {
     "delete_cmd_postfix": "",
     "delete_cmd_prefix": "del ",
     "library": "var_list.py",
     "varRefreshCmd": "print(var_dic_list())"
    },
    "r": {
     "delete_cmd_postfix": ") ",
     "delete_cmd_prefix": "rm(",
     "library": "var_list.r",
     "varRefreshCmd": "cat(var_dic_list()) "
    }
   },
   "types_to_exclude": [
    "module",
    "function",
    "builtin_function_or_method",
    "instance",
    "_Feature"
   ],
   "window_display": false
  }
 },
 "nbformat": 4,
 "nbformat_minor": 5
}
