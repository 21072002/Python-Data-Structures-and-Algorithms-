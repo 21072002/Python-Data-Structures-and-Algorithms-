{
 "cells": [
  {
   "cell_type": "markdown",
   "id": "2e0e3698",
   "metadata": {},
   "source": [
    "### Dijkstra's Algorithm\n",
    "\n",
    "#### Definition\n",
    "\n",
    "- Dijkstra's Algorithm is a greedy algorithm used to find the shortest path between a single source node and all other nodes in a weighted graph, provided the weights are non-negative.\n",
    "\n",
    "#### Key Points\n",
    "\n",
    "- It maintains a set of vertices whose shortest distance from the source is known at any given time.\n",
    "- It starts with the source node and iteratively explores the vertices, updating the shortest distances.\n",
    "\n",
    "#### Algorithm Steps\n",
    "\n",
    "1. Create a set of vertices whose shortest distance is unknown, initially set to infinity for all nodes.\n",
    "2. Set the distance of the source node to 0.\n",
    "3. For each vertex, choose the vertex with the smallest known distance, visit it, and update the distances of its neighbors.\n",
    "4. Repeat step 3 until all vertices have been visited.\n",
    "\n"
   ]
  },
  {
   "cell_type": "code",
   "execution_count": 1,
   "id": "1835b3d2",
   "metadata": {},
   "outputs": [
    {
     "name": "stdout",
     "output_type": "stream",
     "text": [
      "Shortest distances from A :\n",
      "Distance to A: 0\n",
      "Distance to B: 1\n",
      "Distance to C: 3\n",
      "Distance to D: 4\n"
     ]
    }
   ],
   "source": [
    "import heapq\n",
    "import sys\n",
    "\n",
    "class Graph:\n",
    "    def __init__(self):\n",
    "        self.graph = {}\n",
    "\n",
    "    def add_edge(self, u, v, weight):\n",
    "        self.graph.setdefault(u, []).append((v, weight))\n",
    "        self.graph.setdefault(v, []).append((u, weight))\n",
    "\n",
    "    def dijkstra(self, start_node):\n",
    "        distances = {node: float('inf') for node in self.graph}\n",
    "        distances[start_node] = 0\n",
    "        pq = [(0, start_node)]  # Priority queue (distance, node)\n",
    "\n",
    "        while pq:\n",
    "            current_distance, current_node = heapq.heappop(pq)\n",
    "\n",
    "            if current_distance > distances[current_node]:\n",
    "                continue\n",
    "\n",
    "            for neighbor, weight in self.graph[current_node]:\n",
    "                distance = current_distance + weight\n",
    "                if distance < distances[neighbor]:\n",
    "                    distances[neighbor] = distance\n",
    "                    heapq.heappush(pq, (distance, neighbor))\n",
    "\n",
    "        return distances\n",
    "\n",
    "# Usage\n",
    "graph = Graph()\n",
    "graph.add_edge('A', 'B', 1)\n",
    "graph.add_edge('A', 'C', 4)\n",
    "graph.add_edge('B', 'C', 2)\n",
    "graph.add_edge('B', 'D', 5)\n",
    "graph.add_edge('C', 'D', 1)\n",
    "\n",
    "start_node = 'A'\n",
    "shortest_distances = graph.dijkstra(start_node)\n",
    "\n",
    "print(\"Shortest distances from\", start_node, \":\")\n",
    "for node, distance in shortest_distances.items():\n",
    "    print(f\"Distance to {node}: {distance}\")\n"
   ]
  },
  {
   "cell_type": "markdown",
   "id": "4a572f1b",
   "metadata": {},
   "source": [
    "In this example, we define a Graph class to represent the weighted graph using an adjacency list. We then implement Dijkstra's Algorithm to find the shortest distances from a given start node."
   ]
  },
  {
   "cell_type": "code",
   "execution_count": null,
   "id": "1a40061b",
   "metadata": {},
   "outputs": [],
   "source": []
  }
 ],
 "metadata": {
  "kernelspec": {
   "display_name": "Python 3 (ipykernel)",
   "language": "python",
   "name": "python3"
  },
  "language_info": {
   "codemirror_mode": {
    "name": "ipython",
    "version": 3
   },
   "file_extension": ".py",
   "mimetype": "text/x-python",
   "name": "python",
   "nbconvert_exporter": "python",
   "pygments_lexer": "ipython3",
   "version": "3.9.18"
  },
  "varInspector": {
   "cols": {
    "lenName": 16,
    "lenType": 16,
    "lenVar": 40
   },
   "kernels_config": {
    "python": {
     "delete_cmd_postfix": "",
     "delete_cmd_prefix": "del ",
     "library": "var_list.py",
     "varRefreshCmd": "print(var_dic_list())"
    },
    "r": {
     "delete_cmd_postfix": ") ",
     "delete_cmd_prefix": "rm(",
     "library": "var_list.r",
     "varRefreshCmd": "cat(var_dic_list()) "
    }
   },
   "types_to_exclude": [
    "module",
    "function",
    "builtin_function_or_method",
    "instance",
    "_Feature"
   ],
   "window_display": false
  }
 },
 "nbformat": 4,
 "nbformat_minor": 5
}
