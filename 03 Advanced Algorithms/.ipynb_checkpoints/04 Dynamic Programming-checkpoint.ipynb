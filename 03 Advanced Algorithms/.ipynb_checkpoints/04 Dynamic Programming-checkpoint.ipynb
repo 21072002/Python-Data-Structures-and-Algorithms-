{
 "cells": [
  {
   "cell_type": "markdown",
   "id": "b1e83024",
   "metadata": {},
   "source": [
    "### Dynamic Programming\n",
    "\n",
    "#### Definition\n",
    "\n",
    "- Dynamic Programming is a technique for solving complex problems by breaking them down into simpler, more manageable subproblems.\n",
    "- It involves solving each subproblem only once and storing the results in a table to avoid redundant work.\n",
    "\n",
    "#### Key Points\n",
    "\n",
    "- Dynamic Programming is typically used for optimization problems, where the goal is to find the best solution among a set of feasible solutions.\n",
    "- It often involves solving problems in a bottom-up manner, starting from simpler/smaller subproblems and building up to the desired solution.\n",
    "\n",
    "#### Steps to Apply Dynamic Programming\n",
    "\n",
    "1. Characterize the structure of an optimal solution.\n",
    "2. Define the value of an optimal solution recursively in terms of the values of smaller subproblems.\n",
    "3. Compute the value of an optimal solution in a bottom-up fashion.\n",
    "4. Construct an optimal solution to the problem from the computed information.\n",
    "\n"
   ]
  },
  {
   "cell_type": "code",
   "execution_count": 1,
   "id": "721c9237",
   "metadata": {},
   "outputs": [
    {
     "name": "stdout",
     "output_type": "stream",
     "text": [
      "Fibonacci sequence (6th element): 8\n"
     ]
    }
   ],
   "source": [
    "def fibonacci(n):\n",
    "    if n <= 1:\n",
    "        return n\n",
    "\n",
    "    fib = [0] * (n + 1)\n",
    "    fib[1] = 1\n",
    "\n",
    "    for i in range(2, n + 1):\n",
    "        fib[i] = fib[i - 1] + fib[i - 2]\n",
    "\n",
    "    return fib[n]\n",
    "\n",
    "# Usage\n",
    "result = fibonacci(6)\n",
    "print(\"Fibonacci sequence (6th element):\", result)  # Output: Fibonacci sequence (6th element): 8\n"
   ]
  },
  {
   "cell_type": "markdown",
   "id": "f20b7dd9",
   "metadata": {},
   "source": [
    "In this example, we use dynamic programming to calculate the nth Fibonacci number efficiently using a bottom-up approach."
   ]
  },
  {
   "cell_type": "code",
   "execution_count": null,
   "id": "80e8bc17",
   "metadata": {},
   "outputs": [],
   "source": []
  }
 ],
 "metadata": {
  "kernelspec": {
   "display_name": "Python 3 (ipykernel)",
   "language": "python",
   "name": "python3"
  },
  "language_info": {
   "codemirror_mode": {
    "name": "ipython",
    "version": 3
   },
   "file_extension": ".py",
   "mimetype": "text/x-python",
   "name": "python",
   "nbconvert_exporter": "python",
   "pygments_lexer": "ipython3",
   "version": "3.9.18"
  },
  "varInspector": {
   "cols": {
    "lenName": 16,
    "lenType": 16,
    "lenVar": 40
   },
   "kernels_config": {
    "python": {
     "delete_cmd_postfix": "",
     "delete_cmd_prefix": "del ",
     "library": "var_list.py",
     "varRefreshCmd": "print(var_dic_list())"
    },
    "r": {
     "delete_cmd_postfix": ") ",
     "delete_cmd_prefix": "rm(",
     "library": "var_list.r",
     "varRefreshCmd": "cat(var_dic_list()) "
    }
   },
   "types_to_exclude": [
    "module",
    "function",
    "builtin_function_or_method",
    "instance",
    "_Feature"
   ],
   "window_display": false
  }
 },
 "nbformat": 4,
 "nbformat_minor": 5
}
