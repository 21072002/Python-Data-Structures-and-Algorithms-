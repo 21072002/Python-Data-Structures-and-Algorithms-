{
 "cells": [
  {
   "cell_type": "markdown",
   "id": "7122fc40",
   "metadata": {},
   "source": [
    "The Fast and Slow Pointers technique is a popular algorithmic pattern used to solve problems related to linked lists or arrays. It involves using two pointers that traverse the data structure at different speeds (fast and slow), which helps identify specific properties or positions within the structure.\n",
    "\n",
    "### Fast and Slow Pointers Algorithm Steps\n",
    "\n",
    "1. **Initialization**: Set up two pointers (fast and slow) at appropriate positions in the linked list or array.\n",
    "2. **Traverse the Structure**: Move the pointers accordingly based on the problem's requirements, often in a loop.\n",
    "3. **Identify Properties or Positions**: Utilize the relative speeds and positions of the pointers to identify properties or positions within the structure.\n",
    "\n",
    "### Types of Fast and Slow Pointers\n",
    "\n",
    "- **Floyd's Cycle Detection Algorithm**: Detect cycles in a linked list.\n",
    "- **Middle of the Linked List**: Find the middle node of a linked list.\n",
    "- **Start of the Loop in Linked List**: Detect the start of a cycle in a linked list.\n",
    "- **Palindrome Check in Linked List or String**: Check if a linked list or a string is a palindrome.\n",
    "\n"
   ]
  },
  {
   "cell_type": "markdown",
   "id": "cabc47f6",
   "metadata": {},
   "source": [
    "### Example Code (Python)\n",
    "\n",
    "Let's implement the Fast and Slow Pointers technique to find the middle of a linked list.\n"
   ]
  },
  {
   "cell_type": "code",
   "execution_count": 3,
   "id": "e8b2c9b3",
   "metadata": {},
   "outputs": [
    {
     "name": "stdout",
     "output_type": "stream",
     "text": [
      "Middle of the linked list: 3\n"
     ]
    }
   ],
   "source": [
    "class ListNode:\n",
    "    def __init__(self, val=0, next=None):\n",
    "        self.val = val\n",
    "        self.next = next\n",
    "\n",
    "def find_middle(head):\n",
    "    slow = head\n",
    "    fast = head\n",
    "\n",
    "    while fast and fast.next:\n",
    "        slow = slow.next\n",
    "        fast = fast.next.next\n",
    "\n",
    "    return slow\n",
    "\n",
    "# Usage\n",
    "# Create a linked list: 1 -> 2 -> 3 -> 4 -> 5\n",
    "head = ListNode(1)\n",
    "head.next = ListNode(2)\n",
    "head.next.next = ListNode(3)\n",
    "head.next.next.next = ListNode(4)\n",
    "head.next.next.next.next = ListNode(5)\n",
    "\n",
    "middle = find_middle(head)\n",
    "print(\"Middle of the linked list:\", middle.val)  # Output: 3\n"
   ]
  },
  {
   "cell_type": "markdown",
   "id": "985e470e",
   "metadata": {},
   "source": [
    "In this example, we define a `ListNode` class to represent a node in a linked list. We then use the Fast and Slow Pointers technique to find the middle of the linked list.\n"
   ]
  },
  {
   "cell_type": "code",
   "execution_count": null,
   "id": "901f6905",
   "metadata": {},
   "outputs": [],
   "source": []
  }
 ],
 "metadata": {
  "kernelspec": {
   "display_name": "Python 3 (ipykernel)",
   "language": "python",
   "name": "python3"
  },
  "language_info": {
   "codemirror_mode": {
    "name": "ipython",
    "version": 3
   },
   "file_extension": ".py",
   "mimetype": "text/x-python",
   "name": "python",
   "nbconvert_exporter": "python",
   "pygments_lexer": "ipython3",
   "version": "3.9.18"
  },
  "varInspector": {
   "cols": {
    "lenName": 16,
    "lenType": 16,
    "lenVar": 40
   },
   "kernels_config": {
    "python": {
     "delete_cmd_postfix": "",
     "delete_cmd_prefix": "del ",
     "library": "var_list.py",
     "varRefreshCmd": "print(var_dic_list())"
    },
    "r": {
     "delete_cmd_postfix": ") ",
     "delete_cmd_prefix": "rm(",
     "library": "var_list.r",
     "varRefreshCmd": "cat(var_dic_list()) "
    }
   },
   "types_to_exclude": [
    "module",
    "function",
    "builtin_function_or_method",
    "instance",
    "_Feature"
   ],
   "window_display": false
  }
 },
 "nbformat": 4,
 "nbformat_minor": 5
}
