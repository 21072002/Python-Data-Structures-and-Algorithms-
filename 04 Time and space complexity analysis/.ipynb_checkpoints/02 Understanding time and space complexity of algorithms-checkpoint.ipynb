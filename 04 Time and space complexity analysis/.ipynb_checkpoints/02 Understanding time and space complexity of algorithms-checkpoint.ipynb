{
 "cells": [
  {
   "cell_type": "markdown",
   "id": "7b74bedd",
   "metadata": {},
   "source": [
    "Absolutely! Understanding the time and space complexity of algorithms is crucial for assessing their efficiency and scalability. Let's delve into both time and space complexity.\n",
    "\n",
    "### Time Complexity\n",
    "\n",
    "#### Definition\n",
    "\n",
    "- Time complexity is a measure of the amount of time an algorithm takes to run as a function of the length of the input.\n",
    "\n",
    "#### Key Points\n",
    "\n",
    "- Time complexity is often expressed using Big O notation.\n",
    "- It helps us understand how the runtime of an algorithm grows with the size of the input.\n",
    "\n",
    "#### Common Time Complexities\n",
    "\n",
    "- **O(1)**: Constant time complexity.\n",
    "- **O(log n)**: Logarithmic time complexity.\n",
    "- **O(n)**: Linear time complexity.\n",
    "- **O(n log n)**: Linearithmic time complexity.\n",
    "- **O(n^2)**: Quadratic time complexity.\n",
    "- **O(2^n)**: Exponential time complexity.\n",
    "\n",
    "### Space Complexity\n",
    "\n",
    "#### Definition\n",
    "\n",
    "- Space complexity is a measure of the amount of memory an algorithm uses as a function of the length of the input.\n",
    "\n",
    "#### Key Points\n",
    "\n",
    "- Space complexity is also often expressed using Big O notation.\n",
    "- It helps us understand how the memory usage of an algorithm grows with the size of the input.\n",
    "\n",
    "#### Common Space Complexities\n",
    "\n",
    "- **O(1)**: Constant space complexity.\n",
    "- **O(log n)**: Logarithmic space complexity.\n",
    "- **O(n)**: Linear space complexity.\n",
    "- **O(n log n)**: Linearithmic space complexity.\n",
    "- **O(n^2)**: Quadratic space complexity.\n",
    "- **O(2^n)**: Exponential space complexity.\n",
    "\n"
   ]
  },
  {
   "cell_type": "code",
   "execution_count": 1,
   "id": "15044df1",
   "metadata": {},
   "outputs": [],
   "source": [
    "def example_algorithm(arr):\n",
    "    total = 0  # O(1) space\n",
    "    for item in arr:  # O(n) time\n",
    "        total += item  # O(1) time\n",
    "\n",
    "    return total  # O(1) space\n",
    "\n",
    "# In this example, time complexity is O(n) and space complexity is O(1).\n"
   ]
  },
  {
   "cell_type": "markdown",
   "id": "96a57533",
   "metadata": {},
   "source": [
    "Understanding time and space complexity is crucial for choosing the most efficient algorithm for a given problem and optimizing the use of system resources."
   ]
  },
  {
   "cell_type": "code",
   "execution_count": null,
   "id": "fb93539e",
   "metadata": {},
   "outputs": [],
   "source": []
  }
 ],
 "metadata": {
  "kernelspec": {
   "display_name": "Python 3 (ipykernel)",
   "language": "python",
   "name": "python3"
  },
  "language_info": {
   "codemirror_mode": {
    "name": "ipython",
    "version": 3
   },
   "file_extension": ".py",
   "mimetype": "text/x-python",
   "name": "python",
   "nbconvert_exporter": "python",
   "pygments_lexer": "ipython3",
   "version": "3.9.18"
  },
  "varInspector": {
   "cols": {
    "lenName": 16,
    "lenType": 16,
    "lenVar": 40
   },
   "kernels_config": {
    "python": {
     "delete_cmd_postfix": "",
     "delete_cmd_prefix": "del ",
     "library": "var_list.py",
     "varRefreshCmd": "print(var_dic_list())"
    },
    "r": {
     "delete_cmd_postfix": ") ",
     "delete_cmd_prefix": "rm(",
     "library": "var_list.r",
     "varRefreshCmd": "cat(var_dic_list()) "
    }
   },
   "types_to_exclude": [
    "module",
    "function",
    "builtin_function_or_method",
    "instance",
    "_Feature"
   ],
   "window_display": false
  }
 },
 "nbformat": 4,
 "nbformat_minor": 5
}
