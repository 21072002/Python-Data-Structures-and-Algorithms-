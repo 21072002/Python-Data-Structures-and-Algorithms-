{
 "cells": [
  {
   "cell_type": "markdown",
   "id": "560ab96c",
   "metadata": {},
   "source": [
    "# Linked Lists (Singly, Doubly, Circular)"
   ]
  },
  {
   "cell_type": "markdown",
   "id": "fe5fe108",
   "metadata": {},
   "source": [
    "#### Singly Linked List\n",
    "\n",
    "- **Definition:**\n",
    "  - A collection of nodes, where each node holds data and a reference (or link) to the next node.\n",
    "  - The last node's link points to null.\n",
    "\n",
    "- **Key Points:**\n",
    "  - Efficient for insertion and deletion (O(1)) compared to arrays.\n",
    "  - No fixed size; can grow or shrink dynamically.\n",
    "  - Not suitable for random access; traversal is required.\n",
    "\n",
    "- **Operations:**\n",
    "  - **Insertion:**\n",
    "    - Insert at the beginning (O(1)).\n",
    "    - Insert at the end (O(n), if the tail is not maintained).\n",
    "    - Insert at a specific position (O(n)).\n",
    "  - **Deletion:**\n",
    "    - Delete at the beginning (O(1)).\n",
    "    - Delete at the end (O(n)).\n",
    "    - Delete a specific node (O(n)).\n"
   ]
  },
  {
   "cell_type": "code",
   "execution_count": 1,
   "id": "9b8c05e1",
   "metadata": {},
   "outputs": [
    {
     "name": "stdout",
     "output_type": "stream",
     "text": [
      "1 -> 2 -> 3 -> None\n"
     ]
    }
   ],
   "source": [
    "class Node:\n",
    "    def __init__(self, data):\n",
    "        self.data = data\n",
    "        self.next = None\n",
    "\n",
    "class LinkedList:\n",
    "    def __init__(self):\n",
    "        self.head = None\n",
    "\n",
    "    def insert_at_beginning(self, data):\n",
    "        new_node = Node(data)\n",
    "        new_node.next = self.head\n",
    "        self.head = new_node\n",
    "\n",
    "    def display(self):\n",
    "        current = self.head\n",
    "        while current:\n",
    "            print(current.data, end=\" -> \")\n",
    "            current = current.next\n",
    "        print(\"None\")\n",
    "\n",
    "# Usage\n",
    "linked_list = LinkedList()\n",
    "linked_list.insert_at_beginning(3)\n",
    "linked_list.insert_at_beginning(2)\n",
    "linked_list.insert_at_beginning(1)\n",
    "linked_list.display()  # Output: 1 -> 2 -> 3 -> None\n"
   ]
  },
  {
   "cell_type": "markdown",
   "id": "2657c81d",
   "metadata": {},
   "source": [
    "\n",
    "### Doubly Linked List\n",
    "\n",
    "#### Definition\n",
    "\n",
    "A doubly linked list is a linear data structure in which each element, known as a node, contains data and two pointers: one to the next node and one to the previous node.\n",
    "\n",
    "#### Key Points\n",
    "\n",
    "- Each node has a link to its previous node and a link to its next node.\n",
    "- The list has a `head` pointing to the first node and a `tail` pointing to the last node.\n",
    "- Efficient for operations that require traversal in both directions.\n",
    "\n",
    "#### Operations\n",
    "\n",
    "1. **Insertion:**\n",
    "   - **Insert at the beginning:**\n",
    "     - Create a new node.\n",
    "     - Set the new node's `next` to the current head.\n",
    "     - Set the current head's `prev` to the new node.\n",
    "     - Update the head to point to the new node.\n",
    "   - **Insert at the end:**\n",
    "     - Create a new node.\n",
    "     - Set the new node's `prev` to the current tail.\n",
    "     - Set the current tail's `next` to the new node.\n",
    "     - Update the tail to point to the new node.\n",
    "   - **Insert at a specific position:**\n",
    "     - Traverse to the desired position.\n",
    "     - Adjust the links to insert the new node.\n",
    "\n",
    "2. **Deletion:**\n",
    "   - **Delete at the beginning:**\n",
    "     - Update the head to the next node.\n",
    "     - Set the new head's `prev` to None.\n",
    "   - **Delete at the end:**\n",
    "     - Update the tail to the previous node.\n",
    "     - Set the new tail's `next` to None.\n",
    "   - **Delete a specific node:**\n",
    "     - Adjust the links of the adjacent nodes to skip the node to be deleted.\n",
    "\n",
    "\n"
   ]
  },
  {
   "cell_type": "code",
   "execution_count": 7,
   "id": "9a4c57bd",
   "metadata": {},
   "outputs": [
    {
     "name": "stdout",
     "output_type": "stream",
     "text": [
      "1 <-> 2 <-> 3 <-> None\n"
     ]
    }
   ],
   "source": [
    "#### Example Code (Python)\n",
    "\n",
    "\n",
    "class Node:\n",
    "    def __init__(self, data):\n",
    "        self.data = data\n",
    "        self.prev = None\n",
    "        self.next = None\n",
    "\n",
    "class DoublyLinkedList:\n",
    "    def __init__(self):\n",
    "        self.head = None\n",
    "        self.tail = None\n",
    "\n",
    "    def insert_at_end(self, data):\n",
    "        new_node = Node(data)\n",
    "        if not self.head:\n",
    "            self.head = self.tail = new_node\n",
    "        else:\n",
    "            new_node.prev = self.tail\n",
    "            self.tail.next = new_node\n",
    "            self.tail = new_node\n",
    "\n",
    "    def display(self):\n",
    "        current = self.head\n",
    "        while current:\n",
    "            print(current.data, end=\" <-> \")\n",
    "            current = current.next\n",
    "        print(\"None\")\n",
    "\n",
    "# Usage\n",
    "doubly_linked_list = DoublyLinkedList()\n",
    "doubly_linked_list.insert_at_end(1)\n",
    "doubly_linked_list.insert_at_end(2)\n",
    "doubly_linked_list.insert_at_end(3)\n",
    "doubly_linked_list.display()  # Output: 1 <-> 2 <-> 3 <-> None\n",
    "\n",
    "\n"
   ]
  },
  {
   "cell_type": "markdown",
   "id": "9206d634",
   "metadata": {},
   "source": [
    "Certainly! Let's cover **Circular Linked Lists**.\n",
    "\n",
    "### Circular Linked List\n",
    "\n",
    "#### Definition\n",
    "\n",
    "A circular linked list is a type of linked list in which the last node's \"next\" pointer points back to the first node, forming a circular loop.\n",
    "\n",
    "#### Key Points\n",
    "\n",
    "- There is no \"null\" or \"None\" reference in the \"next\" field of the last node.\n",
    "- Allows for continuous traversal, providing an efficient way to cycle through the list.\n",
    "\n",
    "#### Operations\n",
    "\n",
    "1. **Insertion:**\n",
    "   - **Insert at the end:**\n",
    "     - Create a new node.\n",
    "     - Set the new node's `next` to the head node.\n",
    "     - Update the last node's `next` to the new node.\n",
    "     - Update the new node as the last node.\n",
    "\n",
    "2. **Deletion:**\n",
    "   - **Delete a specific node:**\n",
    "     - Traverse the list to find the node to be deleted.\n",
    "     - Adjust the links of the adjacent nodes to skip the node to be deleted.\n",
    "\n",
    "\n",
    "In this code, we define a `Node` class to represent a node in the circular linked list and a `CircularLinkedList` class to manage the operations for the circular linked list.\n",
    "\n",
    "Is there anything else you'd like to explore or any additional questions you have?"
   ]
  },
  {
   "cell_type": "code",
   "execution_count": 8,
   "id": "6c4437e1",
   "metadata": {},
   "outputs": [
    {
     "name": "stdout",
     "output_type": "stream",
     "text": [
      "1 -> 2 -> 3 -> "
     ]
    }
   ],
   "source": [
    "class Node:\n",
    "    def __init__(self, data):\n",
    "        self.data = data\n",
    "        self.next = None\n",
    "\n",
    "class CircularLinkedList:\n",
    "    def __init__(self):\n",
    "        self.head = None\n",
    "        self.tail = None\n",
    "\n",
    "    def insert_at_end(self, data):\n",
    "        new_node = Node(data)\n",
    "        if not self.head:\n",
    "            self.head = self.tail = new_node\n",
    "            self.head.next = self.head  # Circular link to itself\n",
    "        else:\n",
    "            new_node.next = self.head\n",
    "            self.tail.next = new_node\n",
    "            self.tail = new_node\n",
    "\n",
    "    def display(self):\n",
    "        current = self.head\n",
    "        while True:\n",
    "            print(current.data, end=\" -> \")\n",
    "            current = current.next\n",
    "            if current == self.head:\n",
    "                break\n",
    "\n",
    "# Usage\n",
    "circular_linked_list = CircularLinkedList()\n",
    "circular_linked_list.insert_at_end(1)\n",
    "circular_linked_list.insert_at_end(2)\n",
    "circular_linked_list.insert_at_end(3)\n",
    "circular_linked_list.display()  # Output: 1 -> 2 -> 3 -> 1 (looped back)\n"
   ]
  },
  {
   "cell_type": "code",
   "execution_count": null,
   "id": "9bcf4622",
   "metadata": {},
   "outputs": [],
   "source": []
  }
 ],
 "metadata": {
  "kernelspec": {
   "display_name": "Python 3 (ipykernel)",
   "language": "python",
   "name": "python3"
  },
  "language_info": {
   "codemirror_mode": {
    "name": "ipython",
    "version": 3
   },
   "file_extension": ".py",
   "mimetype": "text/x-python",
   "name": "python",
   "nbconvert_exporter": "python",
   "pygments_lexer": "ipython3",
   "version": "3.9.18"
  },
  "varInspector": {
   "cols": {
    "lenName": 16,
    "lenType": 16,
    "lenVar": 40
   },
   "kernels_config": {
    "python": {
     "delete_cmd_postfix": "",
     "delete_cmd_prefix": "del ",
     "library": "var_list.py",
     "varRefreshCmd": "print(var_dic_list())"
    },
    "r": {
     "delete_cmd_postfix": ") ",
     "delete_cmd_prefix": "rm(",
     "library": "var_list.r",
     "varRefreshCmd": "cat(var_dic_list()) "
    }
   },
   "types_to_exclude": [
    "module",
    "function",
    "builtin_function_or_method",
    "instance",
    "_Feature"
   ],
   "window_display": false
  }
 },
 "nbformat": 4,
 "nbformat_minor": 5
}
