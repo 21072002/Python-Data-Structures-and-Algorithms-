{
 "cells": [
  {
   "cell_type": "markdown",
   "id": "6fe35474",
   "metadata": {},
   "source": [
    "Disjoint Set Union (DSU), also known as Union-Find, is a data structure and algorithm used to keep track of a partition of a set into disjoint subsets. It supports two main operations: **Union** and **Find**.\n",
    "\n",
    "### Disjoint Set Union Structure\n",
    "\n",
    "- Each element is initially in its own set, representing a singleton set.\n",
    "- Sets are represented as trees, where each node points to its parent. The root of the tree represents the set.\n",
    "\n",
    "### Disjoint Set Union Operations\n",
    "\n",
    "#### 1. **Make Set**\n",
    "\n",
    "- Create a set with a single element.\n",
    "\n",
    "#### 2. **Union**\n",
    "\n",
    "- Merge two sets by linking the root of one set to the root of the other set.\n",
    "\n",
    "#### 3. **Find**\n",
    "\n",
    "- Determine which set an element belongs to by finding the root of the set.\n",
    "\n",
    "### Path Compression and Union by Rank\n",
    "\n",
    "- **Path Compression**: During the Find operation, optimize the tree structure by making each node point directly to the root. This improves future Find operations.\n",
    "- **Union by Rank**: During the Union operation, attach the shorter tree to the root of the taller tree. This helps keep the tree flat and minimizes the time complexity of operations.\n",
    "\n"
   ]
  },
  {
   "cell_type": "code",
   "execution_count": 1,
   "id": "8e8444f6",
   "metadata": {},
   "outputs": [
    {
     "name": "stdout",
     "output_type": "stream",
     "text": [
      "[0, 1, 2, 3, 4]\n",
      "[0, 1, 1, 3, 4]\n",
      "[0, 1, 1, 0, 4]\n",
      "4\n"
     ]
    }
   ],
   "source": [
    "class DisjointSetUnion:\n",
    "    def __init__(self, n):\n",
    "        self.parent = [i for i in range(n)]\n",
    "        self.rank = [0] * n\n",
    "\n",
    "    def find(self, x):\n",
    "        if self.parent[x] != x:\n",
    "            self.parent[x] = self.find(self.parent[x])  # Path Compression\n",
    "        return self.parent[x]\n",
    "\n",
    "    def union(self, x, y):\n",
    "        root_x = self.find(x)\n",
    "        root_y = self.find(y)\n",
    "\n",
    "        if root_x == root_y:\n",
    "            return False\n",
    "\n",
    "        if self.rank[root_x] < self.rank[root_y]:\n",
    "            self.parent[root_x] = root_y\n",
    "        elif self.rank[root_x] > self.rank[root_y]:\n",
    "            self.parent[root_y] = root_x\n",
    "        else:\n",
    "            self.parent[root_y] = root_x\n",
    "            self.rank[root_x] += 1\n",
    "\n",
    "        return True\n",
    "\n",
    "# Usage\n",
    "n = 5  # Number of elements\n",
    "dsu = DisjointSetUnion(n)\n",
    "\n",
    "# Initially, each element is in its own set\n",
    "print(dsu.parent)  # Output: [0, 1, 2, 3, 4]\n",
    "\n",
    "# Union of sets containing elements 1 and 2\n",
    "dsu.union(1, 2)\n",
    "print(dsu.parent)  # Output: [0, 1, 1, 3, 4]\n",
    "\n",
    "# Union of sets containing elements 0 and 3\n",
    "dsu.union(0, 3)\n",
    "print(dsu.parent)  # Output: [0, 1, 1, 0, 4]\n",
    "\n",
    "# Find the set of element 4\n",
    "print(dsu.find(4))  # Output: 4\n"
   ]
  },
  {
   "cell_type": "code",
   "execution_count": null,
   "id": "75b32333",
   "metadata": {},
   "outputs": [],
   "source": []
  }
 ],
 "metadata": {
  "kernelspec": {
   "display_name": "Python 3 (ipykernel)",
   "language": "python",
   "name": "python3"
  },
  "language_info": {
   "codemirror_mode": {
    "name": "ipython",
    "version": 3
   },
   "file_extension": ".py",
   "mimetype": "text/x-python",
   "name": "python",
   "nbconvert_exporter": "python",
   "pygments_lexer": "ipython3",
   "version": "3.9.18"
  },
  "varInspector": {
   "cols": {
    "lenName": 16,
    "lenType": 16,
    "lenVar": 40
   },
   "kernels_config": {
    "python": {
     "delete_cmd_postfix": "",
     "delete_cmd_prefix": "del ",
     "library": "var_list.py",
     "varRefreshCmd": "print(var_dic_list())"
    },
    "r": {
     "delete_cmd_postfix": ") ",
     "delete_cmd_prefix": "rm(",
     "library": "var_list.r",
     "varRefreshCmd": "cat(var_dic_list()) "
    }
   },
   "types_to_exclude": [
    "module",
    "function",
    "builtin_function_or_method",
    "instance",
    "_Feature"
   ],
   "window_display": false
  }
 },
 "nbformat": 4,
 "nbformat_minor": 5
}
