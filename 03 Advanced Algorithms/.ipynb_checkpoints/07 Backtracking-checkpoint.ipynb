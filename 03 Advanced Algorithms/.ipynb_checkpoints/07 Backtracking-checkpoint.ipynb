{
 "cells": [
  {
   "cell_type": "markdown",
   "id": "e85941dc",
   "metadata": {},
   "source": [
    "### Backtracking\n",
    "\n",
    "#### Definition\n",
    "\n",
    "- Backtracking is a technique used to systematically search for a solution to a computational problem.\n",
    "- It involves recursively trying out different sequences of decisions to find a valid solution.\n",
    "\n",
    "#### Key Points\n",
    "\n",
    "- Backtracking is used when you need to make a series of decisions to arrive at a solution, and if a decision does not lead to a solution, you backtrack and try a different decision.\n",
    "- It's often used in problems where the solution is a sequence of choices, and you need to explore all possible choices to find a valid solution.\n",
    "\n",
    "#### Steps to Apply Backtracking\n",
    "\n",
    "1. **Choose**: Make a choice (e.g., selecting a candidate for the current decision point).\n",
    "2. **Explore**: Move forward and explore the chosen path.\n",
    "3. **Unchoose**: If the chosen path does not lead to a solution, backtrack and undo the choice made at that decision point.\n",
    "\n"
   ]
  },
  {
   "cell_type": "code",
   "execution_count": 1,
   "id": "8f7d8b88",
   "metadata": {},
   "outputs": [
    {
     "name": "stdout",
     "output_type": "stream",
     "text": [
      "Solutions for N-Queens problem:\n",
      "Solution 1:\n",
      ".Q..\n",
      "...Q\n",
      "Q...\n",
      "..Q.\n",
      "\n",
      "Solution 2:\n",
      "..Q.\n",
      "Q...\n",
      "...Q\n",
      ".Q..\n",
      "\n"
     ]
    }
   ],
   "source": [
    "def is_safe(board, row, col, n):\n",
    "    # Check if there is a queen in the same column up to the current row\n",
    "    for i in range(row):\n",
    "        if board[i][col]:\n",
    "            return False\n",
    "\n",
    "    # Check upper left diagonal\n",
    "    for i, j in zip(range(row, -1, -1), range(col, -1, -1)):\n",
    "        if board[i][j]:\n",
    "            return False\n",
    "\n",
    "    # Check upper right diagonal\n",
    "    for i, j in zip(range(row, -1, -1), range(col, n)):\n",
    "        if board[i][j]:\n",
    "            return False\n",
    "\n",
    "    return True\n",
    "\n",
    "def solve_n_queens_util(board, row, n, solutions):\n",
    "    if row == n:\n",
    "        # Found a solution, add to solutions\n",
    "        solutions.append([''.join(['Q' if col else '.' for col in row]) for row in board])\n",
    "        return\n",
    "\n",
    "    for col in range(n):\n",
    "        if is_safe(board, row, col, n):\n",
    "            board[row][col] = True\n",
    "            solve_n_queens_util(board, row + 1, n, solutions)\n",
    "            board[row][col] = False\n",
    "\n",
    "def solve_n_queens(n):\n",
    "    board = [[False for _ in range(n)] for _ in range(n)]\n",
    "    solutions = []\n",
    "    solve_n_queens_util(board, 0, n, solutions)\n",
    "    return solutions\n",
    "\n",
    "# Usage\n",
    "n = 4  # N-Queens problem for n = 4\n",
    "solutions = solve_n_queens(n)\n",
    "print(\"Solutions for N-Queens problem:\")\n",
    "for i, solution in enumerate(solutions, start=1):\n",
    "    print(f\"Solution {i}:\")\n",
    "    for row in solution:\n",
    "        print(row)\n",
    "    print()\n"
   ]
  },
  {
   "cell_type": "markdown",
   "id": "5235da71",
   "metadata": {},
   "source": [
    "In this example, we use the Backtracking approach to solve the N-Queens problem, where you need to place N queens on an N×N chessboard in such a way that no two queens threaten each other."
   ]
  },
  {
   "cell_type": "code",
   "execution_count": null,
   "id": "c3a52d9c",
   "metadata": {},
   "outputs": [],
   "source": []
  }
 ],
 "metadata": {
  "kernelspec": {
   "display_name": "Python 3 (ipykernel)",
   "language": "python",
   "name": "python3"
  },
  "language_info": {
   "codemirror_mode": {
    "name": "ipython",
    "version": 3
   },
   "file_extension": ".py",
   "mimetype": "text/x-python",
   "name": "python",
   "nbconvert_exporter": "python",
   "pygments_lexer": "ipython3",
   "version": "3.9.18"
  },
  "varInspector": {
   "cols": {
    "lenName": 16,
    "lenType": 16,
    "lenVar": 40
   },
   "kernels_config": {
    "python": {
     "delete_cmd_postfix": "",
     "delete_cmd_prefix": "del ",
     "library": "var_list.py",
     "varRefreshCmd": "print(var_dic_list())"
    },
    "r": {
     "delete_cmd_postfix": ") ",
     "delete_cmd_prefix": "rm(",
     "library": "var_list.r",
     "varRefreshCmd": "cat(var_dic_list()) "
    }
   },
   "types_to_exclude": [
    "module",
    "function",
    "builtin_function_or_method",
    "instance",
    "_Feature"
   ],
   "window_display": false
  }
 },
 "nbformat": 4,
 "nbformat_minor": 5
}
