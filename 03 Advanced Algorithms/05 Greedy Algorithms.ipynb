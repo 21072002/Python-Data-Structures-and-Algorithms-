{
 "cells": [
  {
   "cell_type": "markdown",
   "id": "a6c85c7a",
   "metadata": {},
   "source": [
    "### Greedy Algorithms\n",
    "\n",
    "#### Definition\n",
    "\n",
    "- Greedy Algorithms make locally optimal choices at each stage with the hope of finding a global optimum.\n",
    "- They choose the best option at each step without considering the overall situation, aiming to reach the best possible solution.\n",
    "\n",
    "#### Key Points\n",
    "\n",
    "- Greedy algorithms are often used for optimization problems.\n",
    "- The key idea is to make the best choice at each step without reconsidering previous choices.\n",
    "\n",
    "#### Steps to Apply a Greedy Algorithm\n",
    "\n",
    "1. Identify a greedy choice property: Define the criterion for making a choice at each step.\n",
    "2. Define an objective function: Formulate the problem as an objective function to be maximized or minimized.\n",
    "3. Apply a greedy strategy: Make choices based on the greedy choice property and optimize the objective function.\n",
    "\n"
   ]
  },
  {
   "cell_type": "code",
   "execution_count": 1,
   "id": "d93cf777",
   "metadata": {},
   "outputs": [
    {
     "name": "stdout",
     "output_type": "stream",
     "text": [
      "Maximum value obtained: 240.0\n",
      "Fraction of each item in the knapsack: [1, 1, 0.6666666666666666]\n"
     ]
    }
   ],
   "source": [
    "def fractional_knapsack(weights, values, capacity):\n",
    "    n = len(weights)\n",
    "    value_per_weight = [(values[i] / weights[i], weights[i], values[i]) for i in range(n)]\n",
    "    value_per_weight.sort(reverse=True, key=lambda x: x[0])\n",
    "\n",
    "    total_value = 0\n",
    "    knapsack = [0] * n  # Fraction of each item in the knapsack\n",
    "\n",
    "    for i in range(n):\n",
    "        if capacity <= 0:\n",
    "            break\n",
    "\n",
    "        weight = value_per_weight[i][1]\n",
    "        value = value_per_weight[i][2]\n",
    "\n",
    "        if weight <= capacity:\n",
    "            knapsack[i] = 1\n",
    "            total_value += value\n",
    "            capacity -= weight\n",
    "        else:\n",
    "            fraction = capacity / weight\n",
    "            knapsack[i] = fraction\n",
    "            total_value += fraction * value\n",
    "            capacity = 0\n",
    "\n",
    "    return total_value, knapsack\n",
    "\n",
    "# Usage\n",
    "weights = [10, 20, 30]\n",
    "values = [60, 100, 120]\n",
    "capacity = 50\n",
    "\n",
    "max_value, knapsack = fractional_knapsack(weights, values, capacity)\n",
    "print(\"Maximum value obtained:\", max_value)\n",
    "print(\"Fraction of each item in the knapsack:\", knapsack)\n"
   ]
  },
  {
   "cell_type": "markdown",
   "id": "6fbb8a8a",
   "metadata": {},
   "source": [
    "In this example, we solve the Fractional Knapsack Problem using a greedy approach, where we want to maximize the total value of items in the knapsack without exceeding the capacity."
   ]
  },
  {
   "cell_type": "code",
   "execution_count": null,
   "id": "4f344f9a",
   "metadata": {},
   "outputs": [],
   "source": []
  }
 ],
 "metadata": {
  "kernelspec": {
   "display_name": "Python 3 (ipykernel)",
   "language": "python",
   "name": "python3"
  },
  "language_info": {
   "codemirror_mode": {
    "name": "ipython",
    "version": 3
   },
   "file_extension": ".py",
   "mimetype": "text/x-python",
   "name": "python",
   "nbconvert_exporter": "python",
   "pygments_lexer": "ipython3",
   "version": "3.9.18"
  },
  "varInspector": {
   "cols": {
    "lenName": 16,
    "lenType": 16,
    "lenVar": 40
   },
   "kernels_config": {
    "python": {
     "delete_cmd_postfix": "",
     "delete_cmd_prefix": "del ",
     "library": "var_list.py",
     "varRefreshCmd": "print(var_dic_list())"
    },
    "r": {
     "delete_cmd_postfix": ") ",
     "delete_cmd_prefix": "rm(",
     "library": "var_list.r",
     "varRefreshCmd": "cat(var_dic_list()) "
    }
   },
   "types_to_exclude": [
    "module",
    "function",
    "builtin_function_or_method",
    "instance",
    "_Feature"
   ],
   "window_display": false
  }
 },
 "nbformat": 4,
 "nbformat_minor": 5
}
