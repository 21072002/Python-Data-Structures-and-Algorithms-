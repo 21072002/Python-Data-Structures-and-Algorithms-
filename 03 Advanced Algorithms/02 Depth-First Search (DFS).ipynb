{
 "cells": [
  {
   "cell_type": "markdown",
   "id": "6c264de3",
   "metadata": {},
   "source": [
    "### Depth-First Search (DFS)\n",
    "\n",
    "#### Definition\n",
    "\n",
    "- Depth-First Search (DFS) is an algorithm for traversing or searching tree or graph data structures.\n",
    "- It starts at the tree root (or an arbitrary node of a graph) and explores as far as possible along each branch before backtracking.\n",
    "\n",
    "#### Key Points\n",
    "\n",
    "- DFS uses a stack (or recursion) to remember the next vertex to visit from the current vertex.\n",
    "- It explores the graph in a depthward motion and uses backtracking to go to the next unvisited neighbor.\n",
    "\n",
    "#### Algorithm Steps\n",
    "\n",
    "1. Start from a given node (e.g., the root node for a tree or any arbitrary node for a graph).\n",
    "2. Mark the current node as visited.\n",
    "3. Visit the current node.\n",
    "4. Recur for all unvisited neighbors of the current node.\n",
    "\n"
   ]
  },
  {
   "cell_type": "code",
   "execution_count": 2,
   "id": "4cc3d44d",
   "metadata": {},
   "outputs": [],
   "source": [
    "from collections import defaultdict\n",
    "\n",
    "class Graph:\n",
    "    def __init__(self):\n",
    "        self.graph = defaultdict(list)\n",
    "\n",
    "    def add_edge(self, u, v):\n",
    "        self.graph[u].append(v)\n",
    "        self.graph[v].append(u)\n",
    "\n",
    "    def dfs_util(self, current_node, visited):\n",
    "        visited[current_node] = True\n",
    "        print(current_node, end=\" \")\n",
    "\n",
    "        for neighbor in self.graph[current_node]:\n",
    "            if not visited[neighbor]:\n",
    "                self.dfs_util(neighbor, visited)\n",
    "\n",
    "    def dfs(self, start_node):\n",
    "        visited = [False] * len(self.graph)\n",
    "        self.dfs_util(start_node, visited)\n",
    "\n",
    "# Usage\n",
    "graph = Graph()\n",
    "graph.add_edge(0, 1)\n",
    "graph.add_edge(0, 2)\n",
    "graph.add_edge(1, 2)\n",
    "graph.add_edge(2, 3)\n",
    "graph.add_edge(3, 3)\n",
    "\n",
    "print(\"DFS Traversal:\")\n",
    "graph.dfs(2)  # Starting from node 2\n"
   ]
  },
  {
   "cell_type": "code",
   "execution_count": null,
   "id": "6b6c077c",
   "metadata": {},
   "outputs": [],
   "source": []
  }
 ],
 "metadata": {
  "kernelspec": {
   "display_name": "Python 3 (ipykernel)",
   "language": "python",
   "name": "python3"
  },
  "language_info": {
   "codemirror_mode": {
    "name": "ipython",
    "version": 3
   },
   "file_extension": ".py",
   "mimetype": "text/x-python",
   "name": "python",
   "nbconvert_exporter": "python",
   "pygments_lexer": "ipython3",
   "version": "3.9.18"
  },
  "varInspector": {
   "cols": {
    "lenName": 16,
    "lenType": 16,
    "lenVar": 40
   },
   "kernels_config": {
    "python": {
     "delete_cmd_postfix": "",
     "delete_cmd_prefix": "del ",
     "library": "var_list.py",
     "varRefreshCmd": "print(var_dic_list())"
    },
    "r": {
     "delete_cmd_postfix": ") ",
     "delete_cmd_prefix": "rm(",
     "library": "var_list.r",
     "varRefreshCmd": "cat(var_dic_list()) "
    }
   },
   "types_to_exclude": [
    "module",
    "function",
    "builtin_function_or_method",
    "instance",
    "_Feature"
   ],
   "window_display": false
  }
 },
 "nbformat": 4,
 "nbformat_minor": 5
}
