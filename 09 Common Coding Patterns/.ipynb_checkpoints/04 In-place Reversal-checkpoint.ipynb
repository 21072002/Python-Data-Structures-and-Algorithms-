{
 "cells": [
  {
   "cell_type": "markdown",
   "id": "66d74950",
   "metadata": {},
   "source": [
    "The In-place Reversal technique involves reversing a data structure, such as an array, linked list, or string, without using extra space. It's an efficient way to reverse a structure by swapping or modifying the elements within the structure itself, which helps save memory.\n",
    "\n",
    "### In-place Reversal Algorithm Steps\n",
    "\n",
    "1. **Initialization**: Set up pointers or indices at appropriate positions within the structure.\n",
    "2. **Reverse the Structure in-place**: Modify the elements within the structure to achieve the desired reversal.\n",
    "\n",
    "### Types of In-place Reversal\n",
    "\n",
    "- **Array Reversal**: Reverse the elements of an array in-place.\n",
    "- **Linked List Reversal**: Reverse a linked list in-place.\n",
    "- **String Reversal**: Reverse a string in-place.\n",
    "\n",
    "### Example Code (Python)\n",
    "\n",
    "Let's implement the In-place Reversal technique to reverse an array in-place.\n"
   ]
  },
  {
   "cell_type": "code",
   "execution_count": 1,
   "id": "9b0e9d36",
   "metadata": {},
   "outputs": [
    {
     "name": "stdout",
     "output_type": "stream",
     "text": [
      "Original Array: [1, 2, 3, 4, 5]\n",
      "Reversed Array: [5, 4, 3, 2, 1]\n"
     ]
    }
   ],
   "source": [
    "def reverse_array(arr):\n",
    "    left = 0\n",
    "    right = len(arr) - 1\n",
    "\n",
    "    while left < right:\n",
    "        arr[left], arr[right] = arr[right], arr[left]\n",
    "        left += 1\n",
    "        right -= 1\n",
    "\n",
    "# Usage\n",
    "arr = [1, 2, 3, 4, 5]\n",
    "print(\"Original Array:\", arr)\n",
    "reverse_array(arr)\n",
    "print(\"Reversed Array:\", arr)  # Output: [5, 4, 3, 2, 1]\n"
   ]
  },
  {
   "cell_type": "markdown",
   "id": "02452584",
   "metadata": {},
   "source": [
    "In this example, we define a function `reverse_array` that reverses an array in-place using the In-place Reversal technique.\n"
   ]
  },
  {
   "cell_type": "code",
   "execution_count": null,
   "id": "7b7db69a",
   "metadata": {},
   "outputs": [],
   "source": []
  }
 ],
 "metadata": {
  "kernelspec": {
   "display_name": "Python 3 (ipykernel)",
   "language": "python",
   "name": "python3"
  },
  "language_info": {
   "codemirror_mode": {
    "name": "ipython",
    "version": 3
   },
   "file_extension": ".py",
   "mimetype": "text/x-python",
   "name": "python",
   "nbconvert_exporter": "python",
   "pygments_lexer": "ipython3",
   "version": "3.9.18"
  },
  "varInspector": {
   "cols": {
    "lenName": 16,
    "lenType": 16,
    "lenVar": 40
   },
   "kernels_config": {
    "python": {
     "delete_cmd_postfix": "",
     "delete_cmd_prefix": "del ",
     "library": "var_list.py",
     "varRefreshCmd": "print(var_dic_list())"
    },
    "r": {
     "delete_cmd_postfix": ") ",
     "delete_cmd_prefix": "rm(",
     "library": "var_list.r",
     "varRefreshCmd": "cat(var_dic_list()) "
    }
   },
   "types_to_exclude": [
    "module",
    "function",
    "builtin_function_or_method",
    "instance",
    "_Feature"
   ],
   "window_display": false
  }
 },
 "nbformat": 4,
 "nbformat_minor": 5
}
