{
 "cells": [
  {
   "cell_type": "markdown",
   "id": "bccfcb2b",
   "metadata": {},
   "source": [
    "### Recursive Algorithms\n",
    "\n",
    "#### Definition\n",
    "\n",
    "- A recursive algorithm is an algorithm that calls itself as a subroutine to solve a problem.\n",
    "- Recursive algorithms use the divide-and-conquer approach, breaking a problem into subproblems that are similar to the original problem but with smaller input.\n",
    "\n",
    "#### Key Points\n",
    "\n",
    "- A recursive algorithm consists of a base case (a condition that terminates recursion) and a recursive case (a call to the algorithm itself with modified input).\n",
    "\n"
   ]
  },
  {
   "cell_type": "markdown",
   "id": "6070e385",
   "metadata": {},
   "source": [
    "1. **Factorial**\n"
   ]
  },
  {
   "cell_type": "code",
   "execution_count": 1,
   "id": "3ae7ad14",
   "metadata": {},
   "outputs": [
    {
     "name": "stdout",
     "output_type": "stream",
     "text": [
      "Factorial of 5: 120\n"
     ]
    }
   ],
   "source": [
    "def factorial(n):\n",
    "    if n == 0:\n",
    "        return 1  # Base case: factorial of 0 is 1\n",
    "    else:\n",
    "        return n * factorial(n - 1)  # Recursive case\n",
    "\n",
    "# Usage\n",
    "result = factorial(5)\n",
    "print(\"Factorial of 5:\", result)  # Output: Factorial of 5: 120\n"
   ]
  },
  {
   "cell_type": "markdown",
   "id": "ba85dad0",
   "metadata": {},
   "source": [
    "2. **Fibonacci Sequence**"
   ]
  },
  {
   "cell_type": "code",
   "execution_count": 2,
   "id": "ae087fcd",
   "metadata": {},
   "outputs": [
    {
     "name": "stdout",
     "output_type": "stream",
     "text": [
      "Fibonacci sequence: [0, 1, 1, 2, 3, 5, 8, 13, 21]\n"
     ]
    }
   ],
   "source": [
    "def fibonacci(n):\n",
    "    if n <= 1:\n",
    "        return n  # Base case: fibonacci(0) = 0, fibonacci(1) = 1\n",
    "    else:\n",
    "        return fibonacci(n - 1) + fibonacci(n - 2)  # Recursive case\n",
    "\n",
    "# Usage\n",
    "result = fibonacci(6)\n",
    "print(\"Fibonacci sequence:\", [fibonacci(i) for i in range(result + 1)])  # Output: [0, 1, 1, 2, 3, 5, 8]\n"
   ]
  },
  {
   "cell_type": "markdown",
   "id": "d1f406eb",
   "metadata": {},
   "source": [
    "3. **Tower of Hanoi**\n"
   ]
  },
  {
   "cell_type": "code",
   "execution_count": 3,
   "id": "ba4ba3dc",
   "metadata": {},
   "outputs": [
    {
     "name": "stdout",
     "output_type": "stream",
     "text": [
      "Move disk 1 from A to C\n",
      "Move disk 2 from A to B\n",
      "Move disk 1 from C to B\n",
      "Move disk 3 from A to C\n",
      "Move disk 1 from B to A\n",
      "Move disk 2 from B to C\n",
      "Move disk 1 from A to C\n"
     ]
    }
   ],
   "source": [
    "def tower_of_hanoi(n, source, auxiliary, target):\n",
    "    if n == 1:\n",
    "        print(f\"Move disk 1 from {source} to {target}\")\n",
    "        return\n",
    "    tower_of_hanoi(n - 1, source, target, auxiliary)\n",
    "    print(f\"Move disk {n} from {source} to {target}\")\n",
    "    tower_of_hanoi(n - 1, auxiliary, source, target)\n",
    "\n",
    "# Usage\n",
    "tower_of_hanoi(3, 'A', 'B', 'C')\n"
   ]
  },
  {
   "cell_type": "markdown",
   "id": "02f2b96e",
   "metadata": {},
   "source": [
    "These are just a few examples of recursive algorithms. Recursive algorithms follow the principle of solving a larger problem by solving smaller instances of the same problem until reaching a base case."
   ]
  },
  {
   "cell_type": "code",
   "execution_count": null,
   "id": "76d33b47",
   "metadata": {},
   "outputs": [],
   "source": []
  }
 ],
 "metadata": {
  "kernelspec": {
   "display_name": "Python 3 (ipykernel)",
   "language": "python",
   "name": "python3"
  },
  "language_info": {
   "codemirror_mode": {
    "name": "ipython",
    "version": 3
   },
   "file_extension": ".py",
   "mimetype": "text/x-python",
   "name": "python",
   "nbconvert_exporter": "python",
   "pygments_lexer": "ipython3",
   "version": "3.9.18"
  },
  "varInspector": {
   "cols": {
    "lenName": 16,
    "lenType": 16,
    "lenVar": 40
   },
   "kernels_config": {
    "python": {
     "delete_cmd_postfix": "",
     "delete_cmd_prefix": "del ",
     "library": "var_list.py",
     "varRefreshCmd": "print(var_dic_list())"
    },
    "r": {
     "delete_cmd_postfix": ") ",
     "delete_cmd_prefix": "rm(",
     "library": "var_list.r",
     "varRefreshCmd": "cat(var_dic_list()) "
    }
   },
   "types_to_exclude": [
    "module",
    "function",
    "builtin_function_or_method",
    "instance",
    "_Feature"
   ],
   "window_display": false
  }
 },
 "nbformat": 4,
 "nbformat_minor": 5
}
