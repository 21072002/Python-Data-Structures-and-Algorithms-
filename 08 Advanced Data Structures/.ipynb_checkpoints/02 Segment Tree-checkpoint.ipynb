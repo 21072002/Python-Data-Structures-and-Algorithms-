{
 "cells": [
  {
   "cell_type": "markdown",
   "id": "11797d37",
   "metadata": {},
   "source": [
    "A Segment Tree is a versatile data structure used to efficiently handle range queries and updates on an array or a list. It allows for querying the elements within a specified range and modifying individual elements in the array. The core idea behind a Segment Tree is to represent an array as a binary tree, where each node represents a segment (or a range) of the original array.\n",
    "\n",
    "### Segment Tree Structure\n",
    "\n",
    "- Each node in the Segment Tree represents a segment of the array, defined by a range [start, end].\n",
    "- The root node represents the entire array [0, n-1], where n is the size of the array.\n",
    "- Each leaf node represents a single element of the array.\n",
    "\n",
    "### Segment Tree Operations\n",
    "\n",
    "#### 1. **Build**\n",
    "\n",
    "- Construct the Segment Tree recursively, dividing the array into segments and assigning them to nodes in the tree.\n",
    "\n",
    "#### 2. **Query**\n",
    "\n",
    "- Retrieve information about a specific range in the array by traversing the Segment Tree.\n",
    "\n",
    "#### 3. **Update**\n",
    "\n",
    "- Modify an element in the array and update the corresponding node(s) in the Segment Tree.\n"
   ]
  },
  {
   "cell_type": "code",
   "execution_count": 1,
   "id": "86f6fa88",
   "metadata": {},
   "outputs": [
    {
     "name": "stdout",
     "output_type": "stream",
     "text": [
      "15\n",
      "20\n"
     ]
    }
   ],
   "source": [
    "class SegmentTree:\n",
    "    def __init__(self, nums):\n",
    "        self.n = len(nums)\n",
    "        self.tree = [0] * (4 * self.n)\n",
    "        self.nums = nums\n",
    "\n",
    "    def build_tree(self, node, start, end):\n",
    "        if start == end:\n",
    "            self.tree[node] = self.nums[start]\n",
    "        else:\n",
    "            mid = (start + end) // 2\n",
    "            left_child = 2 * node + 1\n",
    "            right_child = 2 * node + 2\n",
    "\n",
    "            self.build_tree(left_child, start, mid)\n",
    "            self.build_tree(right_child, mid + 1, end)\n",
    "\n",
    "            self.tree[node] = self.tree[left_child] + self.tree[right_child]\n",
    "\n",
    "    def query(self, node, start, end, left, right):\n",
    "        if start > right or end < left:\n",
    "            return 0\n",
    "        if left <= start and end <= right:\n",
    "            return self.tree[node]\n",
    "\n",
    "        mid = (start + end) // 2\n",
    "        left_child = 2 * node + 1\n",
    "        right_child = 2 * node + 2\n",
    "\n",
    "        left_sum = self.query(left_child, start, mid, left, right)\n",
    "        right_sum = self.query(right_child, mid + 1, end, left, right)\n",
    "\n",
    "        return left_sum + right_sum\n",
    "\n",
    "    def update(self, node, start, end, index, value):\n",
    "        if start == end:\n",
    "            self.nums[index] = value\n",
    "            self.tree[node] = value\n",
    "        else:\n",
    "            mid = (start + end) // 2\n",
    "            left_child = 2 * node + 1\n",
    "            right_child = 2 * node + 2\n",
    "\n",
    "            if index <= mid:\n",
    "                self.update(left_child, start, mid, index, value)\n",
    "            else:\n",
    "                self.update(right_child, mid + 1, end, index, value)\n",
    "\n",
    "            self.tree[node] = self.tree[left_child] + self.tree[right_child]\n",
    "\n",
    "# Usage\n",
    "nums = [1, 3, 5, 7, 9, 11]\n",
    "segment_tree = SegmentTree(nums)\n",
    "segment_tree.build_tree(0, 0, len(nums) - 1)\n",
    "\n",
    "print(segment_tree.query(0, 0, len(nums) - 1, 1, 3))  # Output: 15 (sum of nums[1:4])\n",
    "segment_tree.update(0, 0, len(nums) - 1, 2, 10)\n",
    "print(segment_tree.query(0, 0, len(nums) - 1, 1, 3))  # Output: 26 (sum of nums[1:4] after update)\n"
   ]
  },
  {
   "cell_type": "code",
   "execution_count": 3,
   "id": "ff1696d2",
   "metadata": {},
   "outputs": [
    {
     "name": "stdout",
     "output_type": "stream",
     "text": [
      "15\n",
      "20\n"
     ]
    }
   ],
   "source": [
    "class SegmentTree:\n",
    "    def __init__(self, nums):\n",
    "        self.n = len(nums)\n",
    "        self.tree = [0] * (4 * self.n)\n",
    "        self.nums = nums\n",
    "\n",
    "    def build_tree(self, node, start, end):\n",
    "        if start == end:\n",
    "            self.tree[node] = self.nums[start]\n",
    "        else:\n",
    "            mid = (start + end) // 2\n",
    "            left_child = 2 * node + 1\n",
    "            right_child = 2 * node + 2\n",
    "\n",
    "            self.build_tree(left_child, start, mid)\n",
    "            self.build_tree(right_child, mid + 1, end)\n",
    "\n",
    "            self.tree[node] = self.tree[left_child] + self.tree[right_child]\n",
    "\n",
    "    def query(self, node, start, end, left, right):\n",
    "        if start > right or end < left:\n",
    "            return 0\n",
    "        if left <= start and end <= right:\n",
    "            return self.tree[node]\n",
    "\n",
    "        mid = (start + end) // 2\n",
    "        left_child = 2 * node + 1\n",
    "        right_child = 2 * node + 2\n",
    "\n",
    "        left_sum = self.query(left_child, start, mid, left, right)\n",
    "        right_sum = self.query(right_child, mid + 1, end, left, right)\n",
    "\n",
    "        return left_sum + right_sum\n",
    "\n",
    "    def update(self, node, start, end, index, value):\n",
    "        if start == end:\n",
    "            self.nums[index] = value\n",
    "            self.tree[node] = value\n",
    "        else:\n",
    "            mid = (start + end) // 2\n",
    "            left_child = 2 * node + 1\n",
    "            right_child = 2 * node + 2\n",
    "\n",
    "            if index <= mid:\n",
    "                self.update(left_child, start, mid, index, value)\n",
    "            else:\n",
    "                self.update(right_child, mid + 1, end, index, value)\n",
    "\n",
    "            self.tree[node] = self.tree[left_child] + self.tree[right_child]\n",
    "\n",
    "# Usage\n",
    "nums = [1, 3, 5, 7, 9, 11]\n",
    "segment_tree = SegmentTree(nums)\n",
    "segment_tree.build_tree(0, 0, len(nums) - 1)\n",
    "\n",
    "print(segment_tree.query(0, 0, len(nums) - 1, 1, 3))  # Output: 15 (sum of nums[1:4])\n",
    "segment_tree.update(0, 0, len(nums) - 1, 2, 10)\n",
    "print(segment_tree.query(0, 0, len(nums) - 1, 1, 3))  # Output: 26 (sum of nums[1:4] after update)\n"
   ]
  },
  {
   "cell_type": "markdown",
   "id": "10ebe18d",
   "metadata": {},
   "source": [
    "In this example, we define a SegmentTree class with methods for building the tree, querying the sum within a range, and updating an element. The query method is used to retrieve the sum within a given range, and the update method modifies an element in the array and updates the corresponding node(s) in the Segment Tree."
   ]
  },
  {
   "cell_type": "code",
   "execution_count": null,
   "id": "2cf9a035",
   "metadata": {},
   "outputs": [],
   "source": []
  }
 ],
 "metadata": {
  "kernelspec": {
   "display_name": "Python 3 (ipykernel)",
   "language": "python",
   "name": "python3"
  },
  "language_info": {
   "codemirror_mode": {
    "name": "ipython",
    "version": 3
   },
   "file_extension": ".py",
   "mimetype": "text/x-python",
   "name": "python",
   "nbconvert_exporter": "python",
   "pygments_lexer": "ipython3",
   "version": "3.9.18"
  },
  "varInspector": {
   "cols": {
    "lenName": 16,
    "lenType": 16,
    "lenVar": 40
   },
   "kernels_config": {
    "python": {
     "delete_cmd_postfix": "",
     "delete_cmd_prefix": "del ",
     "library": "var_list.py",
     "varRefreshCmd": "print(var_dic_list())"
    },
    "r": {
     "delete_cmd_postfix": ") ",
     "delete_cmd_prefix": "rm(",
     "library": "var_list.r",
     "varRefreshCmd": "cat(var_dic_list()) "
    }
   },
   "types_to_exclude": [
    "module",
    "function",
    "builtin_function_or_method",
    "instance",
    "_Feature"
   ],
   "window_display": false
  }
 },
 "nbformat": 4,
 "nbformat_minor": 5
}
