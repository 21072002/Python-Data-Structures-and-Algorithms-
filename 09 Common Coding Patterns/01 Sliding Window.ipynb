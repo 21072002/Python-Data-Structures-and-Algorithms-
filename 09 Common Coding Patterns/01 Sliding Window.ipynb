{
 "cells": [
  {
   "cell_type": "markdown",
   "id": "60c105a4",
   "metadata": {},
   "source": [
    "The sliding window technique is a common algorithmic pattern used for efficiently processing arrays, lists, or other sequential data structures. It helps solve problems that require finding a subarray satisfying certain conditions (e.g., maximum sum, shortest subarray, etc.) by using a 'window' that slides over the elements of the array.\n",
    "\n",
    "### Sliding Window Algorithm Steps\n",
    "\n",
    "1. **Initialize the Window**: Set up the initial window with appropriate size and position.\n",
    "2. **Process the Initial Window**: Process the elements within the initial window.\n",
    "3. **Slide the Window**: Move the window according to the problem's requirements.\n",
    "4. **Update Results**: Update the result based on the current window.\n",
    "\n",
    "### Sliding Window Types\n",
    "\n",
    "- **Fixed Size Window**: The window has a fixed size and moves by a constant step.\n",
    "- **Variable Size Window**: The window size varies based on the problem's conditions.\n",
    "\n",
    "### Common Problems Solved Using Sliding Window\n",
    "\n",
    "- **Maximum Sum Subarray of Size K**\n",
    "- **Longest Substring with K Distinct Characters**\n",
    "- **Minimum Size Subarray Sum**\n",
    "- **Longest Subarray with Ones After Replacement**\n",
    "\n"
   ]
  },
  {
   "cell_type": "code",
   "execution_count": 1,
   "id": "570089fe",
   "metadata": {},
   "outputs": [
    {
     "name": "stdout",
     "output_type": "stream",
     "text": [
      "Maximum sum subarray of size 3 : 21\n"
     ]
    }
   ],
   "source": [
    "#Let's implement the sliding window technique to find the maximum sum subarray of a fixed size K.\n",
    "def max_sum_subarray(arr, k):\n",
    "    if k > len(arr):\n",
    "        return None\n",
    "\n",
    "    max_sum = float('-inf')\n",
    "    window_sum = sum(arr[:k])\n",
    "\n",
    "    for i in range(len(arr) - k):\n",
    "        window_sum = window_sum - arr[i] + arr[i + k]\n",
    "        max_sum = max(max_sum, window_sum)\n",
    "\n",
    "    return max_sum\n",
    "\n",
    "# Usage\n",
    "arr = [1, 4, 2, 10, 2, 3, 1, 0, 20]\n",
    "k = 3\n",
    "print(\"Maximum sum subarray of size\", k, \":\", max_sum_subarray(arr, k))  # Output: 33\n"
   ]
  },
  {
   "cell_type": "code",
   "execution_count": null,
   "id": "a0017747",
   "metadata": {},
   "outputs": [],
   "source": []
  }
 ],
 "metadata": {
  "kernelspec": {
   "display_name": "Python 3 (ipykernel)",
   "language": "python",
   "name": "python3"
  },
  "language_info": {
   "codemirror_mode": {
    "name": "ipython",
    "version": 3
   },
   "file_extension": ".py",
   "mimetype": "text/x-python",
   "name": "python",
   "nbconvert_exporter": "python",
   "pygments_lexer": "ipython3",
   "version": "3.9.18"
  },
  "varInspector": {
   "cols": {
    "lenName": 16,
    "lenType": 16,
    "lenVar": 40
   },
   "kernels_config": {
    "python": {
     "delete_cmd_postfix": "",
     "delete_cmd_prefix": "del ",
     "library": "var_list.py",
     "varRefreshCmd": "print(var_dic_list())"
    },
    "r": {
     "delete_cmd_postfix": ") ",
     "delete_cmd_prefix": "rm(",
     "library": "var_list.r",
     "varRefreshCmd": "cat(var_dic_list()) "
    }
   },
   "types_to_exclude": [
    "module",
    "function",
    "builtin_function_or_method",
    "instance",
    "_Feature"
   ],
   "window_display": false
  }
 },
 "nbformat": 4,
 "nbformat_minor": 5
}
